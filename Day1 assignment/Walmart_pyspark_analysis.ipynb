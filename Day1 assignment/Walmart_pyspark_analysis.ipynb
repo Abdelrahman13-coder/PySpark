{
 "cells": [
  {
   "cell_type": "markdown",
   "id": "598bfc37",
   "metadata": {},
   "source": [
    "# PySpark H.W Session 1\n",
    "\n",
    "Let's get some quick practice with your new Spark DataFrame skills, you will be asked some basic questions about some stock market data, in this case Walmart Stock from the years 2012-2017. This exercise will just ask a bunch of questions, unlike the future machine learning exercises, which will be a little looser and be in the form of \"Consulting Projects\", but more on that later!\n",
    "\n",
    "For now, just answer the questions and complete the tasks below.\n",
    "\n",
    "#### Use the walmart_stock.csv file to Answer and complete the  tasks below!"
   ]
  },
  {
   "cell_type": "code",
   "execution_count": 1,
   "id": "509ac1e7",
   "metadata": {},
   "outputs": [],
   "source": [
    "import spark\n",
    "import pyspark\n",
    "from pyspark.sql import SparkSession\n",
    "from pyspark import SparkContext\n",
    "import pandas as pd\n",
    "import numpy as np\n",
    "from pyspark.sql import SparkSession\n",
    "from pyspark.sql.functions import count\n",
    "from pyspark.sql.types import *\n",
    "from pyspark.sql.functions import col\n",
    "import pyspark.sql.functions as fn\n",
    "\n"
   ]
  },
  {
   "cell_type": "markdown",
   "id": "a79a6205",
   "metadata": {},
   "source": [
    "#### Start a simple Spark Session"
   ]
  },
  {
   "cell_type": "code",
   "execution_count": 2,
   "id": "ffa22bda",
   "metadata": {},
   "outputs": [
    {
     "name": "stderr",
     "output_type": "stream",
     "text": [
      "WARNING: An illegal reflective access operation has occurred\n",
      "WARNING: Illegal reflective access by org.apache.spark.unsafe.Platform (file:/opt/spark/jars/spark-unsafe_2.12-3.2.1.jar) to constructor java.nio.DirectByteBuffer(long,int)\n",
      "WARNING: Please consider reporting this to the maintainers of org.apache.spark.unsafe.Platform\n",
      "WARNING: Use --illegal-access=warn to enable warnings of further illegal reflective access operations\n",
      "WARNING: All illegal access operations will be denied in a future release\n",
      "Using Spark's default log4j profile: org/apache/spark/log4j-defaults.properties\n",
      "Setting default log level to \"WARN\".\n",
      "To adjust logging level use sc.setLogLevel(newLevel). For SparkR, use setLogLevel(newLevel).\n",
      "22/06/03 15:23:55 WARN NativeCodeLoader: Unable to load native-hadoop library for your platform... using builtin-java classes where applicable\n"
     ]
    }
   ],
   "source": [
    "spark = (SparkSession\n",
    ".builder\n",
    ".appName(\"DataFrame\")\n",
    ".getOrCreate())"
   ]
  },
  {
   "cell_type": "code",
   "execution_count": 3,
   "id": "759cb8b5",
   "metadata": {},
   "outputs": [],
   "source": [
    "sc = spark.sparkContext"
   ]
  },
  {
   "cell_type": "markdown",
   "id": "b3ceba07",
   "metadata": {},
   "source": [
    "#### Load the Walmart Stock CSV File, have Spark infer the data types."
   ]
  },
  {
   "cell_type": "code",
   "execution_count": 4,
   "id": "39c5f036",
   "metadata": {},
   "outputs": [],
   "source": [
    "walmart_df = spark.read.csv('walmart_stock.csv',header = True,inferSchema=True)"
   ]
  },
  {
   "cell_type": "markdown",
   "id": "64c4e14e",
   "metadata": {},
   "source": [
    "#### What are the column names?"
   ]
  },
  {
   "cell_type": "code",
   "execution_count": 5,
   "id": "2c939c30",
   "metadata": {
    "scrolled": true
   },
   "outputs": [
    {
     "data": {
      "text/plain": [
       "['Date', 'Open', 'High', 'Low', 'Close', 'Volume', 'Adj Close']"
      ]
     },
     "execution_count": 5,
     "metadata": {},
     "output_type": "execute_result"
    }
   ],
   "source": [
    "walmart_df.columns"
   ]
  },
  {
   "cell_type": "markdown",
   "id": "75875bbc",
   "metadata": {},
   "source": [
    "#### What does the Schema look like?"
   ]
  },
  {
   "cell_type": "code",
   "execution_count": 6,
   "id": "aefe3328",
   "metadata": {},
   "outputs": [
    {
     "name": "stdout",
     "output_type": "stream",
     "text": [
      "root\n",
      " |-- Date: string (nullable = true)\n",
      " |-- Open: double (nullable = true)\n",
      " |-- High: double (nullable = true)\n",
      " |-- Low: double (nullable = true)\n",
      " |-- Close: double (nullable = true)\n",
      " |-- Volume: integer (nullable = true)\n",
      " |-- Adj Close: double (nullable = true)\n",
      "\n"
     ]
    }
   ],
   "source": [
    "walmart_df.printSchema()"
   ]
  },
  {
   "cell_type": "markdown",
   "id": "1fd9c026",
   "metadata": {},
   "source": [
    "#### Print out the first 5 columns."
   ]
  },
  {
   "cell_type": "code",
   "execution_count": 7,
   "id": "21c16573",
   "metadata": {},
   "outputs": [
    {
     "name": "stdout",
     "output_type": "stream",
     "text": [
      "Row(Date='2012-01-03', Open=59.970001, High=61.060001, Low=59.869999, Close=60.330002, Volume=12668800, Adj Close=52.619234999999996) \n",
      "\n",
      "Row(Date='2012-01-04', Open=60.209998999999996, High=60.349998, Low=59.470001, Close=59.709998999999996, Volume=9593300, Adj Close=52.078475) \n",
      "\n",
      "Row(Date='2012-01-05', Open=59.349998, High=59.619999, Low=58.369999, Close=59.419998, Volume=12768200, Adj Close=51.825539) \n",
      "\n",
      "Row(Date='2012-01-06', Open=59.419998, High=59.450001, Low=58.869999, Close=59.0, Volume=8069400, Adj Close=51.45922) \n",
      "\n",
      "Row(Date='2012-01-09', Open=59.029999, High=59.549999, Low=58.919998, Close=59.18, Volume=6679300, Adj Close=51.616215000000004) \n",
      "\n"
     ]
    }
   ],
   "source": [
    "#walmart_df.select('Date', 'Open', 'High', 'Low', 'Close').show()\n",
    "for line in walmart_df.head(5):\n",
    "    print(line, '\\n')"
   ]
  },
  {
   "cell_type": "markdown",
   "id": "f6d4c62b",
   "metadata": {},
   "source": [
    "#### Use describe() to learn about the DataFrame."
   ]
  },
  {
   "cell_type": "code",
   "execution_count": 8,
   "id": "ba7faad7",
   "metadata": {},
   "outputs": [
    {
     "data": {
      "text/plain": [
       "DataFrame[summary: string, Date: string, Open: string, High: string, Low: string, Close: string, Volume: string, Adj Close: string]"
      ]
     },
     "execution_count": 8,
     "metadata": {},
     "output_type": "execute_result"
    }
   ],
   "source": [
    "walmart_df.describe()"
   ]
  },
  {
   "cell_type": "markdown",
   "id": "29fd2c0a",
   "metadata": {},
   "source": [
    "## Bonus Question!\n",
    "#### There are too many decimal places for mean and stddev in the describe() dataframe. Format the numbers to just show up to two decimal places. Pay careful attention to the datatypes that .describe() returns, we didn't cover how to do this exact formatting, but we covered something very similar. [Check this link for a hint](http://spark.apache.org/docs/latest/api/python/pyspark.sql.html#pyspark.sql.Column.cast)\n",
    "\n",
    "If you get stuck on this, don't worry, just view the solutions."
   ]
  },
  {
   "cell_type": "code",
   "execution_count": 9,
   "id": "894b13c5",
   "metadata": {},
   "outputs": [
    {
     "name": "stdout",
     "output_type": "stream",
     "text": [
      "+-------+--------+--------+--------+--------+----------+\n",
      "|summary|    Open|    High|     Low|   Close|    Volume|\n",
      "+-------+--------+--------+--------+--------+----------+\n",
      "|  count|1,258.00|1,258.00|1,258.00|1,258.00|     1,258|\n",
      "|   mean|   72.36|   72.84|   71.92|   72.39| 8,222,093|\n",
      "| stddev|    6.77|    6.77|    6.74|    6.76| 4,519,780|\n",
      "|    min|   56.39|   57.06|   56.30|   56.42| 2,094,900|\n",
      "|    max|   90.80|   90.97|   89.25|   90.47|80,898,100|\n",
      "+-------+--------+--------+--------+--------+----------+\n",
      "\n"
     ]
    }
   ],
   "source": [
    "from pyspark.sql.functions import format_number\n",
    "summary = walmart_df.describe()\n",
    "summary.select(summary['summary'],\n",
    "                  format_number(summary['Open'].cast('float'), 2).alias('Open'),\n",
    "                  format_number(summary['High'].cast('float'), 2).alias('High'),\n",
    "                  format_number(summary['Low'].cast('float'), 2).alias('Low'),\n",
    "                  format_number(summary['Close'].cast('float'), 2).alias('Close'),\n",
    "                  format_number(summary['Volume'].cast('int'),0).alias('Volume')\n",
    "                 ).show()"
   ]
  },
  {
   "cell_type": "markdown",
   "id": "98c70893",
   "metadata": {},
   "source": [
    "#### Create a new dataframe with a column called HV Ratio that is the ratio of the High Price versus volume of stock traded for a day."
   ]
  },
  {
   "cell_type": "code",
   "execution_count": 10,
   "id": "78816436",
   "metadata": {},
   "outputs": [],
   "source": [
    "wal_new = walmart_df.withColumn('HV Ratio',col('High')/col('Volume'))"
   ]
  },
  {
   "cell_type": "code",
   "execution_count": 11,
   "id": "234d01e7",
   "metadata": {},
   "outputs": [
    {
     "name": "stdout",
     "output_type": "stream",
     "text": [
      "+--------------------+\n",
      "|            HV Ratio|\n",
      "+--------------------+\n",
      "|4.819714653321546E-6|\n",
      "|6.290848613094555E-6|\n",
      "|4.669412994783916E-6|\n",
      "|7.367338463826307E-6|\n",
      "|8.915604778943901E-6|\n",
      "|8.644477436914568E-6|\n",
      "|9.351828421515645E-6|\n",
      "| 8.29141562102703E-6|\n",
      "|7.712212102001476E-6|\n",
      "|7.071764823529412E-6|\n",
      "|1.015495466386981E-5|\n",
      "|6.576354146362592...|\n",
      "| 5.90145296180676E-6|\n",
      "|8.547679455011844E-6|\n",
      "|8.420709512685392E-6|\n",
      "|1.041448341728929...|\n",
      "|8.316075414862431E-6|\n",
      "|9.721183814992126E-6|\n",
      "|8.029436027707578E-6|\n",
      "|6.307432259386365E-6|\n",
      "+--------------------+\n",
      "only showing top 20 rows\n",
      "\n"
     ]
    }
   ],
   "source": [
    "wal_new.select('HV Ratio').show()"
   ]
  },
  {
   "cell_type": "code",
   "execution_count": 28,
   "id": "81babeaf",
   "metadata": {},
   "outputs": [
    {
     "data": {
      "text/plain": [
       "Column<'to_timestamp(Date)'>"
      ]
     },
     "execution_count": 28,
     "metadata": {},
     "output_type": "execute_result"
    }
   ],
   "source": [
    "fn.to_timestamp(walmart_df['Date'])\n"
   ]
  },
  {
   "cell_type": "code",
   "execution_count": 30,
   "id": "68acca16",
   "metadata": {},
   "outputs": [
    {
     "name": "stdout",
     "output_type": "stream",
     "text": [
      "root\n",
      " |-- Date: string (nullable = true)\n",
      " |-- Open: double (nullable = true)\n",
      " |-- High: double (nullable = true)\n",
      " |-- Low: double (nullable = true)\n",
      " |-- Close: double (nullable = true)\n",
      " |-- Volume: integer (nullable = true)\n",
      " |-- Adj Close: double (nullable = true)\n",
      "\n"
     ]
    }
   ],
   "source": [
    "walmart_df.printSchema()"
   ]
  },
  {
   "cell_type": "markdown",
   "id": "7491f6d9",
   "metadata": {},
   "source": [
    "#### What day had the Peak High in Price?"
   ]
  },
  {
   "cell_type": "code",
   "execution_count": 12,
   "id": "9d2089f3",
   "metadata": {},
   "outputs": [
    {
     "name": "stdout",
     "output_type": "stream",
     "text": [
      "+----------+\n",
      "|      Date|\n",
      "+----------+\n",
      "|2015-01-13|\n",
      "+----------+\n",
      "only showing top 1 row\n",
      "\n"
     ]
    }
   ],
   "source": [
    "walmart_df.sort(walmart_df['High'].desc()).select(['Date']).show(1)  "
   ]
  },
  {
   "cell_type": "code",
   "execution_count": 24,
   "id": "c513f713",
   "metadata": {},
   "outputs": [
    {
     "data": {
      "text/plain": [
       "'2015-01-13'"
      ]
     },
     "execution_count": 24,
     "metadata": {},
     "output_type": "execute_result"
    }
   ],
   "source": [
    "walmart_df.orderBy(walmart_df['High'].desc()).select(['Date']).head(1)[0]['Date']"
   ]
  },
  {
   "cell_type": "markdown",
   "id": "d5e53a98",
   "metadata": {},
   "source": [
    "#### What is the mean of the Close column?"
   ]
  },
  {
   "cell_type": "code",
   "execution_count": 14,
   "id": "33bca99f",
   "metadata": {},
   "outputs": [
    {
     "name": "stdout",
     "output_type": "stream",
     "text": [
      "+-----------------+\n",
      "|       avg(Close)|\n",
      "+-----------------+\n",
      "|72.38844998012726|\n",
      "+-----------------+\n",
      "\n"
     ]
    }
   ],
   "source": [
    "walmart_df.select(fn.mean('Close')).show()"
   ]
  },
  {
   "cell_type": "markdown",
   "id": "0ab87ddf",
   "metadata": {},
   "source": [
    "#### What is the max and min of the Volume column?"
   ]
  },
  {
   "cell_type": "code",
   "execution_count": 15,
   "id": "26646311",
   "metadata": {},
   "outputs": [
    {
     "name": "stdout",
     "output_type": "stream",
     "text": [
      "+--------+-------+\n",
      "| Max Vol|Min Vol|\n",
      "+--------+-------+\n",
      "|80898100|2094900|\n",
      "+--------+-------+\n",
      "\n"
     ]
    }
   ],
   "source": [
    "walmart_df.select(fn.max('Volume').alias('Max Vol'),fn.min('Volume').alias('Min Vol')).show()"
   ]
  },
  {
   "cell_type": "markdown",
   "id": "0cef0764",
   "metadata": {},
   "source": [
    "#### How many days was the Close lower than 60 dollars?"
   ]
  },
  {
   "cell_type": "code",
   "execution_count": 16,
   "id": "59ea5fd6",
   "metadata": {},
   "outputs": [
    {
     "data": {
      "text/plain": [
       "81"
      ]
     },
     "execution_count": 16,
     "metadata": {},
     "output_type": "execute_result"
    }
   ],
   "source": [
    "walmart_df.filter(col('Close') < 60).count()"
   ]
  },
  {
   "cell_type": "markdown",
   "id": "6f9a464e",
   "metadata": {},
   "source": [
    "#### What percentage of the time was the High greater than 80 dollars ?\n",
    "#### In other words, (Number of Days High>80)/(Total Days in the dataset)"
   ]
  },
  {
   "cell_type": "code",
   "execution_count": 17,
   "id": "72085e56",
   "metadata": {},
   "outputs": [
    {
     "data": {
      "text/plain": [
       "9.141494435612083"
      ]
     },
     "execution_count": 17,
     "metadata": {},
     "output_type": "execute_result"
    }
   ],
   "source": [
    "walmart_df.filter(col('High') > 80).count() * 100/ walmart_df.count()"
   ]
  },
  {
   "cell_type": "markdown",
   "id": "705aa9f2",
   "metadata": {},
   "source": [
    "#### What is the Pearson correlation between High and Volume?"
   ]
  },
  {
   "cell_type": "code",
   "execution_count": 18,
   "id": "53419223",
   "metadata": {},
   "outputs": [
    {
     "data": {
      "text/plain": [
       "-0.3384326061737161"
      ]
     },
     "execution_count": 18,
     "metadata": {},
     "output_type": "execute_result"
    }
   ],
   "source": [
    "walmart_df.corr('High','Volume')"
   ]
  },
  {
   "cell_type": "code",
   "execution_count": 19,
   "id": "8251f81c",
   "metadata": {},
   "outputs": [
    {
     "name": "stdout",
     "output_type": "stream",
     "text": [
      "+-------------------+\n",
      "|   High Volume Corr|\n",
      "+-------------------+\n",
      "|-0.3384326061737161|\n",
      "+-------------------+\n",
      "\n"
     ]
    }
   ],
   "source": [
    "walmart_df.select(fn.corr(col('High'),col('Volume')).alias('High Volume Corr')).show()"
   ]
  },
  {
   "cell_type": "markdown",
   "id": "195f92af",
   "metadata": {},
   "source": [
    "#### What is the max and min High per year?"
   ]
  },
  {
   "cell_type": "code",
   "execution_count": 20,
   "id": "8cb9cc65",
   "metadata": {},
   "outputs": [
    {
     "name": "stdout",
     "output_type": "stream",
     "text": [
      "+----+---------+------------------+\n",
      "|Year|max(High)|         min(High)|\n",
      "+----+---------+------------------+\n",
      "|2015|90.970001|         57.060001|\n",
      "|2013|81.370003| 68.66999799999999|\n",
      "|2014|88.089996|         73.099998|\n",
      "|2012|77.599998|             58.43|\n",
      "|2016|75.190002|61.490002000000004|\n",
      "+----+---------+------------------+\n",
      "\n"
     ]
    }
   ],
   "source": [
    "year_df = walmart_df.withColumn('Year',fn.year(col('Date')))\n",
    "\n",
    "year_df.groupBy('Year').agg(fn.max('High'),fn.min('High')).show()"
   ]
  },
  {
   "cell_type": "markdown",
   "id": "ae7072b4",
   "metadata": {},
   "source": [
    "#### What is the average Close for each Calendar Month?\n",
    "In other words, across all the years, what is the average Close price for Jan,Feb, Mar, etc... Your\n",
    "result will have a value for each of these months."
   ]
  },
  {
   "cell_type": "code",
   "execution_count": 21,
   "id": "980f16b7",
   "metadata": {},
   "outputs": [
    {
     "name": "stdout",
     "output_type": "stream",
     "text": [
      "+-----+-----------------+\n",
      "|Month|       avg(Close)|\n",
      "+-----+-----------------+\n",
      "|    1|71.44801958415842|\n",
      "|    2|  71.306804443299|\n",
      "|    3|71.77794377570092|\n",
      "|    4|72.97361900952382|\n",
      "|    5|72.30971688679247|\n",
      "|    6| 72.4953774245283|\n",
      "|    7|74.43971943925233|\n",
      "|    8|73.02981855454546|\n",
      "|    9|72.18411785294116|\n",
      "|   10|71.57854545454543|\n",
      "|   11| 72.1110893069307|\n",
      "|   12|72.84792478301885|\n",
      "+-----+-----------------+\n",
      "\n"
     ]
    }
   ],
   "source": [
    "month_df = walmart_df.withColumn('Month',fn.month(col('Date')))\n",
    "\n",
    "month_df = month_df.groupBy('Month').mean()\n",
    "\n",
    "month_df = month_df.orderBy('Month')\n",
    "\n",
    "month_df['Month', 'avg(Close)'].show()"
   ]
  },
  {
   "cell_type": "code",
   "execution_count": null,
   "id": "a29914ee",
   "metadata": {},
   "outputs": [],
   "source": []
  }
 ],
 "metadata": {
  "kernelspec": {
   "display_name": "Python 3 (ipykernel)",
   "language": "python",
   "name": "python3"
  },
  "language_info": {
   "codemirror_mode": {
    "name": "ipython",
    "version": 3
   },
   "file_extension": ".py",
   "mimetype": "text/x-python",
   "name": "python",
   "nbconvert_exporter": "python",
   "pygments_lexer": "ipython3",
   "version": "3.9.12"
  }
 },
 "nbformat": 4,
 "nbformat_minor": 5
}
