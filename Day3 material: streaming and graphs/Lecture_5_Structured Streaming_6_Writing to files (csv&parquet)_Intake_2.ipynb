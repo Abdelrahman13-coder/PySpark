{
 "cells": [
  {
   "cell_type": "code",
   "execution_count": 1,
   "id": "39010447",
   "metadata": {},
   "outputs": [],
   "source": [
    "import pyspark\n",
    "from pyspark.sql import SparkSession\n",
    "spark = SparkSession.builder.appName(\"Writing to csv\").getOrCreate()"
   ]
  },
  {
   "cell_type": "code",
   "execution_count": 2,
   "id": "898bcc08",
   "metadata": {},
   "outputs": [],
   "source": [
    "from pyspark.sql.types import (StructType, StructField,\n",
    "                               StringType, IntegerType)\n",
    "\n",
    "recordSchema = StructType([StructField('date', StringType(), True),\n",
    "                           StructField('delay', IntegerType(), True),\n",
    "                           StructField('distance', IntegerType(), True),\n",
    "                           StructField('origin', StringType(), True),\n",
    "                           StructField('destination', StringType(), True)])"
   ]
  },
  {
   "cell_type": "code",
   "execution_count": 15,
   "id": "ff6e3e21",
   "metadata": {},
   "outputs": [],
   "source": [
    "df = spark.readStream.format(\"csv\") \\\n",
    "    .schema(recordSchema) \\\n",
    "    .load(\"MyInputStream/\")"
   ]
  },
  {
   "cell_type": "code",
   "execution_count": 7,
   "id": "8758e545",
   "metadata": {},
   "outputs": [],
   "source": [
    "df = spark.readStream.format(\"parquet\") \\\n",
    "    .schema(recordSchema) \\\n",
    "    .load(\"MyInputStream/\")"
   ]
  },
  {
   "cell_type": "code",
   "execution_count": 8,
   "id": "1884e548",
   "metadata": {},
   "outputs": [],
   "source": [
    "writer = df.writeStream.outputMode(\"append\") \\\n",
    "    .format(\"csv\")  \\\n",
    "    .option(\"path\", \"OutStream/\") \\\n",
    "    .option(\"checkpointLocation\", \"chkpnt\") "
   ]
  },
  {
   "cell_type": "code",
   "execution_count": 16,
   "id": "bb801a40",
   "metadata": {},
   "outputs": [],
   "source": [
    "writer = df.writeStream.outputMode(\"append\") \\\n",
    "    .format(\"parquet\")  \\\n",
    "    .option(\"path\", \"OutStream/\") \\\n",
    "    .option(\"checkpointLocation\", \"chkpnt\")"
   ]
  },
  {
   "cell_type": "code",
   "execution_count": 17,
   "id": "fafe0119",
   "metadata": {},
   "outputs": [
    {
     "name": "stderr",
     "output_type": "stream",
     "text": [
      "22/06/11 10:03:41 WARN ResolveWriteToStream: spark.sql.adaptive.enabled is not supported in streaming DataFrames/Datasets and will be disabled.\n"
     ]
    }
   ],
   "source": [
    "query = writer.start()\n",
    "#query.awaitTermination()"
   ]
  },
  {
   "cell_type": "code",
   "execution_count": 18,
   "id": "f5cb9d00",
   "metadata": {},
   "outputs": [],
   "source": [
    "query.stop()"
   ]
  },
  {
   "cell_type": "code",
   "execution_count": 22,
   "id": "e3c81726",
   "metadata": {},
   "outputs": [],
   "source": [
    "df = spark.read.parquet('OutStream/')"
   ]
  },
  {
   "cell_type": "code",
   "execution_count": 23,
   "id": "89fec3cd",
   "metadata": {},
   "outputs": [
    {
     "name": "stdout",
     "output_type": "stream",
     "text": [
      "+-------+-----+--------+------+-----------+\n",
      "|   date|delay|distance|origin|destination|\n",
      "+-------+-----+--------+------+-----------+\n",
      "|   date| null|    null|origin|destination|\n",
      "|1080600|    0|     369|   ABE|        DTW|\n",
      "|1081230|   33|     369|   ABE|        DTW|\n",
      "|1080625|    1|     602|   ABE|        ATL|\n",
      "|1080607|    5|     569|   ABE|        ORD|\n",
      "|1081219|   54|     569|   ABE|        ORD|\n",
      "|1091215|   43|     602|   ABE|        ATL|\n",
      "|1090600|  151|     369|   ABE|        DTW|\n",
      "|1091725|    0|     602|   ABE|        ATL|\n",
      "|1091230|   -4|     369|   ABE|        DTW|\n",
      "|1090625|    8|     602|   ABE|        ATL|\n",
      "|1091219|   83|     569|   ABE|        ORD|\n",
      "|1101215|   -5|     602|   ABE|        ATL|\n",
      "|1100600|   -5|     369|   ABE|        DTW|\n",
      "|1101725|    7|     602|   ABE|        ATL|\n",
      "|1101230|   -8|     369|   ABE|        DTW|\n",
      "|1100625|   52|     602|   ABE|        ATL|\n",
      "|1101219|    0|     569|   ABE|        ORD|\n",
      "|1111215|  127|     602|   ABE|        ATL|\n",
      "|1110600|   -9|     369|   ABE|        DTW|\n",
      "|1110625|   -4|     602|   ABE|        ATL|\n",
      "|   date| null|    null|origin|destination|\n",
      "|1011245|    6|     602|   ABE|        ATL|\n",
      "|1020600|   -8|     369|   ABE|        DTW|\n",
      "|1021245|   -2|     602|   ABE|        ATL|\n",
      "|1020605|   -4|     602|   ABE|        ATL|\n",
      "|1031245|   -4|     602|   ABE|        ATL|\n",
      "|1030605|    0|     602|   ABE|        ATL|\n",
      "|1041243|   10|     602|   ABE|        ATL|\n",
      "|1040605|   28|     602|   ABE|        ATL|\n",
      "|1051245|   88|     602|   ABE|        ATL|\n",
      "|1050605|    9|     602|   ABE|        ATL|\n",
      "|1061215|   -6|     602|   ABE|        ATL|\n",
      "|1061725|   69|     602|   ABE|        ATL|\n",
      "|1061230|    0|     369|   ABE|        DTW|\n",
      "|1060625|   -3|     602|   ABE|        ATL|\n",
      "|1070600|    0|     369|   ABE|        DTW|\n",
      "|1071725|    0|     602|   ABE|        ATL|\n",
      "|1071230|    0|     369|   ABE|        DTW|\n",
      "|1070625|    0|     602|   ABE|        ATL|\n",
      "+-------+-----+--------+------+-----------+\n",
      "only showing top 40 rows\n",
      "\n"
     ]
    }
   ],
   "source": [
    "df.show(40)"
   ]
  },
  {
   "cell_type": "code",
   "execution_count": null,
   "id": "e7898c94",
   "metadata": {},
   "outputs": [],
   "source": []
  }
 ],
 "metadata": {
  "kernelspec": {
   "display_name": "Python 3 (ipykernel)",
   "language": "python",
   "name": "python3"
  },
  "language_info": {
   "codemirror_mode": {
    "name": "ipython",
    "version": 3
   },
   "file_extension": ".py",
   "mimetype": "text/x-python",
   "name": "python",
   "nbconvert_exporter": "python",
   "pygments_lexer": "ipython3",
   "version": "3.9.12"
  }
 },
 "nbformat": 4,
 "nbformat_minor": 5
}
