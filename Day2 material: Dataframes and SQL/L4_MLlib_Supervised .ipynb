{
 "cells": [
  {
   "cell_type": "markdown",
   "id": "16c490e4",
   "metadata": {},
   "source": [
    "## Why Spark for Machine Learning?\n",
    "- Spark is a unified analytics engine that provides an ecosystem for data ingestion, feature engineering, model training, and deployment. Without Spark, developers would\n",
    "need many disparate tools to accomplish this set of tasks, and might still struggle with\n",
    "scalability.\n",
    "<br>\n",
    "- Spark has two machine learning packages: <b>spark.mllib</b> and <b>spark.ml</b>. <b>spark.mllib</b>\n",
    "is the original machine learning API, <b>based on the RDD API</b> (which has been in\n",
    "maintenance mode since Spark 2.0), while <b>spark.ml</b> is the <b><i>newer</b></i> API, <b>based on DataFrames</b>. We will focus on using the <b>spark.ml</b> package and how to\n",
    "design machine learning pipelines in Spark. However, we use “MLlib” as an umbrella\n",
    "term to refer to both machine learning library packages in Apache Spark.\n",
    "- With spark.ml , data scientists can use one ecosystem for their data preparation and\n",
    "model building, without the need to downsample their data to fit on a single\n",
    "machine.\n",
    "- Spark.ml focuses on O(n) scale-out, where the model scales linearly with\n",
    "the number of data points you have, so it can scale to massive amounts of data."
   ]
  },
  {
   "cell_type": "markdown",
   "id": "580f92c3",
   "metadata": {},
   "source": [
    "## Designing Machine Learning Pipelines\n",
    "- The concept of\n",
    "pipelines is common across many ML frameworks as a way to organize a series of\n",
    "operations to apply to your data.\n",
    "- In <b>MLlib, the Pipeline API</b> provides a high-level API\n",
    "built on top of DataFrames to organize your machine learning workflow.\n",
    "- The Pipeline API is composed of a series of <b>transformers and estimators</b>."
   ]
  },
  {
   "cell_type": "markdown",
   "id": "58473d80",
   "metadata": {},
   "source": [
    "<b>Throughout this session, we will use the San Francisco housing data set from Inside\n",
    "Airbnb. It contains information about Airbnb rentals in San Francisco, such as the\n",
    "number of bedrooms, location, review scores, etc., and our goal is to build a model to\n",
    "predict the nightly rental prices for listings in that city. This is a regression problem,\n",
    "because price is a continuous variable. We will guide you through the workflow a data\n",
    "scientist would go through to approach this problem, including feature engineering,building models, hyperparameter tuning, and evaluating model performance.</b><br><br>\n",
    "<b><font color='red'>Note: </font></b>This\n",
    "data set is quite messy and can be difficult to model (like most real-world data sets!),\n",
    "so if you are experimenting on your own, don’t feel bad if your early models aren’t\n",
    "great."
   ]
  },
  {
   "cell_type": "markdown",
   "id": "8dce8379",
   "metadata": {},
   "source": [
    "The intent of this session is not to show you every API in MLlib, but rather to equip\n",
    "you with the skills and knowledge to get started with using MLlib to build end-to-end\n",
    "pipelines."
   ]
  },
  {
   "cell_type": "markdown",
   "id": "e73e9908",
   "metadata": {},
   "source": [
    "## MLlib terminology:"
   ]
  },
  {
   "cell_type": "markdown",
   "id": "3ba8a57f",
   "metadata": {},
   "source": [
    "### Transformer\n",
    "- Accepts a DataFrame as input, and returns a new DataFrame with one or more\n",
    "columns appended to it. \n",
    "- Transformers do not learn any parameters from your data and simply apply rule-based transformations to either\n",
    "    - <b>prepare data for model training</b> or\n",
    "    - <b>generate predictions using a trained MLlib model.</b> \n",
    "- They have <b>a .transform()</b> method."
   ]
  },
  {
   "cell_type": "markdown",
   "id": "42ab1699",
   "metadata": {},
   "source": [
    "### Estimator\n",
    "- <b>Learns (or “fits”)</b> parameters from your DataFrame via <b>a .fit()</b> method and\n",
    "returns a Model , which is a transformer."
   ]
  },
  {
   "cell_type": "markdown",
   "id": "b43e86f6",
   "metadata": {},
   "source": [
    "### Pipeline\n",
    "- Organizes a series of transformers and estimators into a single model. While\n",
    "pipelines themselves are estimators, the output of pipeline.fit() returns a Pipeline Model , a transformer."
   ]
  },
  {
   "cell_type": "markdown",
   "id": "3886d452",
   "metadata": {},
   "source": [
    "## Data Preparation and Exploration"
   ]
  },
  {
   "cell_type": "markdown",
   "id": "b8b75b83",
   "metadata": {},
   "source": [
    "### The used data is slightly preprocessed as follow:   <i><font color='green'>(you can try by yourself)</font><i/>\n",
    "- Outliers are removed (e.g., Airbnbs posted for $0/night).\n",
    "- All integers are converted to doubles.\n",
    "- An informative subset of the more than one hundred fields.\n",
    "- For any missing numerical values in the data columns, the median value is imputed and added\n",
    "an indicator column (the column name followed by _na , such as bedrooms_na ). This way the ML model or human analyst can interpret any value in that column as an imputed value, not a true value. "
   ]
  },
  {
   "cell_type": "code",
   "execution_count": 1,
   "id": "a6da4eaa",
   "metadata": {},
   "outputs": [],
   "source": [
    "import pyspark"
   ]
  },
  {
   "cell_type": "code",
   "execution_count": 2,
   "id": "78e0595c",
   "metadata": {},
   "outputs": [],
   "source": [
    "from pyspark.sql import SparkSession"
   ]
  },
  {
   "cell_type": "code",
   "execution_count": 3,
   "id": "5c5cb948",
   "metadata": {},
   "outputs": [],
   "source": [
    "spark = SparkSession.builder.appName('Mllib').getOrCreate()"
   ]
  },
  {
   "cell_type": "code",
   "execution_count": 4,
   "id": "11fe2023",
   "metadata": {},
   "outputs": [
    {
     "name": "stderr",
     "output_type": "stream",
     "text": [
      "                                                                                \r"
     ]
    }
   ],
   "source": [
    "airbnbDF = spark.read.parquet('sf-airbnb-clean.parquet/')"
   ]
  },
  {
   "cell_type": "code",
   "execution_count": 5,
   "id": "6e51538a",
   "metadata": {},
   "outputs": [
    {
     "name": "stdout",
     "output_type": "stream",
     "text": [
      "root\n",
      " |-- host_is_superhost: string (nullable = true)\n",
      " |-- cancellation_policy: string (nullable = true)\n",
      " |-- instant_bookable: string (nullable = true)\n",
      " |-- host_total_listings_count: double (nullable = true)\n",
      " |-- neighbourhood_cleansed: string (nullable = true)\n",
      " |-- latitude: double (nullable = true)\n",
      " |-- longitude: double (nullable = true)\n",
      " |-- property_type: string (nullable = true)\n",
      " |-- room_type: string (nullable = true)\n",
      " |-- accommodates: double (nullable = true)\n",
      " |-- bathrooms: double (nullable = true)\n",
      " |-- bedrooms: double (nullable = true)\n",
      " |-- beds: double (nullable = true)\n",
      " |-- bed_type: string (nullable = true)\n",
      " |-- minimum_nights: double (nullable = true)\n",
      " |-- number_of_reviews: double (nullable = true)\n",
      " |-- review_scores_rating: double (nullable = true)\n",
      " |-- review_scores_accuracy: double (nullable = true)\n",
      " |-- review_scores_cleanliness: double (nullable = true)\n",
      " |-- review_scores_checkin: double (nullable = true)\n",
      " |-- review_scores_communication: double (nullable = true)\n",
      " |-- review_scores_location: double (nullable = true)\n",
      " |-- review_scores_value: double (nullable = true)\n",
      " |-- price: double (nullable = true)\n",
      " |-- bedrooms_na: double (nullable = true)\n",
      " |-- bathrooms_na: double (nullable = true)\n",
      " |-- beds_na: double (nullable = true)\n",
      " |-- review_scores_rating_na: double (nullable = true)\n",
      " |-- review_scores_accuracy_na: double (nullable = true)\n",
      " |-- review_scores_cleanliness_na: double (nullable = true)\n",
      " |-- review_scores_checkin_na: double (nullable = true)\n",
      " |-- review_scores_communication_na: double (nullable = true)\n",
      " |-- review_scores_location_na: double (nullable = true)\n",
      " |-- review_scores_value_na: double (nullable = true)\n",
      "\n"
     ]
    }
   ],
   "source": [
    "airbnbDF.printSchema()"
   ]
  },
  {
   "cell_type": "code",
   "execution_count": 6,
   "id": "44d9ee77",
   "metadata": {},
   "outputs": [
    {
     "name": "stderr",
     "output_type": "stream",
     "text": [
      "\r",
      "[Stage 1:>                                                          (0 + 1) / 1]\r"
     ]
    },
    {
     "name": "stdout",
     "output_type": "stream",
     "text": [
      "+--------+-----------+\n",
      "|bedrooms|bedrooms_na|\n",
      "+--------+-----------+\n",
      "|     1.0|        1.0|\n",
      "|     1.0|        1.0|\n",
      "+--------+-----------+\n",
      "\n"
     ]
    },
    {
     "name": "stderr",
     "output_type": "stream",
     "text": [
      "\r",
      "                                                                                \r"
     ]
    }
   ],
   "source": [
    "airbnbDF.select('bedrooms','bedrooms_na').where('bedrooms_na !=0.0').show()"
   ]
  },
  {
   "cell_type": "code",
   "execution_count": 7,
   "id": "2e9abd9d",
   "metadata": {},
   "outputs": [
    {
     "name": "stdout",
     "output_type": "stream",
     "text": [
      "+---------+------------+\n",
      "|bathrooms|bathrooms_na|\n",
      "+---------+------------+\n",
      "|      1.0|         1.0|\n",
      "|      1.0|         1.0|\n",
      "|      1.0|         1.0|\n",
      "|      1.0|         1.0|\n",
      "|      1.0|         1.0|\n",
      "|      1.0|         1.0|\n",
      "|      1.0|         1.0|\n",
      "|      1.0|         1.0|\n",
      "|      1.0|         1.0|\n",
      "|      1.0|         1.0|\n",
      "|      1.0|         1.0|\n",
      "|      1.0|         1.0|\n",
      "|      1.0|         1.0|\n",
      "|      1.0|         1.0|\n",
      "|      1.0|         1.0|\n",
      "|      1.0|         1.0|\n",
      "|      1.0|         1.0|\n",
      "|      1.0|         1.0|\n",
      "|      1.0|         1.0|\n",
      "|      1.0|         1.0|\n",
      "+---------+------------+\n",
      "only showing top 20 rows\n",
      "\n"
     ]
    }
   ],
   "source": [
    "airbnbDF.select('bathrooms','bathrooms_na').where('bathrooms_na !=0.0').show()"
   ]
  },
  {
   "cell_type": "code",
   "execution_count": 8,
   "id": "e61494d9",
   "metadata": {},
   "outputs": [
    {
     "name": "stdout",
     "output_type": "stream",
     "text": [
      "+-------------------+----------------------+\n",
      "|review_scores_value|review_scores_value_na|\n",
      "+-------------------+----------------------+\n",
      "|               10.0|                   1.0|\n",
      "|               10.0|                   1.0|\n",
      "|               10.0|                   1.0|\n",
      "|               10.0|                   1.0|\n",
      "|               10.0|                   1.0|\n",
      "|               10.0|                   1.0|\n",
      "|               10.0|                   1.0|\n",
      "|               10.0|                   1.0|\n",
      "|               10.0|                   1.0|\n",
      "|               10.0|                   1.0|\n",
      "|               10.0|                   1.0|\n",
      "|               10.0|                   1.0|\n",
      "|               10.0|                   1.0|\n",
      "|               10.0|                   1.0|\n",
      "|               10.0|                   1.0|\n",
      "|               10.0|                   1.0|\n",
      "|               10.0|                   1.0|\n",
      "|               10.0|                   1.0|\n",
      "|               10.0|                   1.0|\n",
      "|               10.0|                   1.0|\n",
      "+-------------------+----------------------+\n",
      "only showing top 20 rows\n",
      "\n"
     ]
    }
   ],
   "source": [
    "airbnbDF.select('review_scores_value','review_scores_value_na').where('review_scores_value_na !=0.0').show()"
   ]
  },
  {
   "cell_type": "code",
   "execution_count": 9,
   "id": "c523125a",
   "metadata": {},
   "outputs": [
    {
     "name": "stdout",
     "output_type": "stream",
     "text": [
      "+-------------------+----------------------+\n",
      "|review_scores_value|review_scores_value_na|\n",
      "+-------------------+----------------------+\n",
      "|               10.0|                   0.0|\n",
      "|                9.0|                   0.0|\n",
      "|                8.0|                   0.0|\n",
      "|                9.0|                   0.0|\n",
      "|                9.0|                   0.0|\n",
      "|                9.0|                   0.0|\n",
      "|               10.0|                   0.0|\n",
      "|               10.0|                   0.0|\n",
      "|                9.0|                   0.0|\n",
      "|                9.0|                   0.0|\n",
      "|                9.0|                   0.0|\n",
      "|                9.0|                   0.0|\n",
      "|                7.0|                   0.0|\n",
      "|                8.0|                   0.0|\n",
      "|               10.0|                   0.0|\n",
      "|                9.0|                   0.0|\n",
      "|               10.0|                   0.0|\n",
      "|                9.0|                   0.0|\n",
      "|               10.0|                   0.0|\n",
      "|               10.0|                   0.0|\n",
      "+-------------------+----------------------+\n",
      "only showing top 20 rows\n",
      "\n"
     ]
    }
   ],
   "source": [
    "airbnbDF.select('review_scores_value','review_scores_value_na').show()"
   ]
  },
  {
   "cell_type": "code",
   "execution_count": 10,
   "id": "6b72f7aa",
   "metadata": {},
   "outputs": [
    {
     "name": "stdout",
     "output_type": "stream",
     "text": [
      "+----------------------+---------------+--------+---------+-----------------+-----+\n",
      "|neighbourhood_cleansed|      room_type|bedrooms|bathrooms|number_of_reviews|price|\n",
      "+----------------------+---------------+--------+---------+-----------------+-----+\n",
      "|      Western Addition|Entire home/apt|     1.0|      1.0|            180.0|170.0|\n",
      "|        Bernal Heights|Entire home/apt|     2.0|      1.0|            111.0|235.0|\n",
      "|        Haight Ashbury|   Private room|     1.0|      4.0|             17.0| 65.0|\n",
      "|        Haight Ashbury|   Private room|     1.0|      4.0|              8.0| 65.0|\n",
      "|      Western Addition|Entire home/apt|     2.0|      1.5|             27.0|785.0|\n",
      "+----------------------+---------------+--------+---------+-----------------+-----+\n",
      "only showing top 5 rows\n",
      "\n"
     ]
    }
   ],
   "source": [
    "airbnbDF.select(\"neighbourhood_cleansed\", \"room_type\", \"bedrooms\", \"bathrooms\",\n",
    "\"number_of_reviews\", \"price\").show(5)"
   ]
  },
  {
   "cell_type": "code",
   "execution_count": 11,
   "id": "a481928e",
   "metadata": {},
   "outputs": [
    {
     "name": "stderr",
     "output_type": "stream",
     "text": [
      "22/06/04 09:36:32 WARN package: Truncated the string representation of a plan since it was too large. This behavior can be adjusted by setting 'spark.sql.debug.maxToStringFields'.\n"
     ]
    },
    {
     "name": "stdout",
     "output_type": "stream",
     "text": [
      "+----------------------+---------------+--------+---------+-----------------+-----+\n",
      "|neighbourhood_cleansed|      room_type|bedrooms|bathrooms|number_of_reviews|price|\n",
      "+----------------------+---------------+--------+---------+-----------------+-----+\n",
      "|      Western Addition|Entire home/apt|     1.0|      1.0|            180.0|170.0|\n",
      "|        Bernal Heights|Entire home/apt|     2.0|      1.0|            111.0|235.0|\n",
      "|        Haight Ashbury|   Private room|     1.0|      4.0|             17.0| 65.0|\n",
      "|        Haight Ashbury|   Private room|     1.0|      4.0|              8.0| 65.0|\n",
      "|      Western Addition|Entire home/apt|     2.0|      1.5|             27.0|785.0|\n",
      "+----------------------+---------------+--------+---------+-----------------+-----+\n",
      "only showing top 5 rows\n",
      "\n"
     ]
    }
   ],
   "source": [
    "airbnbDF.createOrReplaceTempView('airbnbDF_view')\n",
    "spark.sql('SELECT neighbourhood_cleansed, room_type, bedrooms, bathrooms,number_of_reviews, price FROM airbnbDF_view').show(5)"
   ]
  },
  {
   "cell_type": "markdown",
   "id": "69115a3b",
   "metadata": {},
   "source": [
    "### Our goal is to predict the price per night for a rental property, given our features."
   ]
  },
  {
   "cell_type": "markdown",
   "id": "c4f15b5d",
   "metadata": {},
   "source": [
    "### Creating Training and Test Data Sets"
   ]
  },
  {
   "cell_type": "code",
   "execution_count": 6,
   "id": "c6ed2c40",
   "metadata": {},
   "outputs": [
    {
     "name": "stderr",
     "output_type": "stream",
     "text": [
      "22/06/04 09:44:23 WARN package: Truncated the string representation of a plan since it was too large. This behavior can be adjusted by setting 'spark.sql.debug.maxToStringFields'.\n",
      "                                                                                \r"
     ]
    },
    {
     "name": "stdout",
     "output_type": "stream",
     "text": [
      "There are 5780 rows in the training set, and 1366 in the test set\n"
     ]
    }
   ],
   "source": [
    "trainDF, testDF = airbnbDF.randomSplit([.8,.2],seed=42)\n",
    "print(f\"There are {trainDF.count()} rows in the training set, and {testDF.count()} in the test set\")"
   ]
  },
  {
   "cell_type": "markdown",
   "id": "b2f05e8b",
   "metadata": {},
   "source": [
    "- But what happens if we change the number of executors in our Spark cluster? The\n",
    "Catalyst optimizer determines the optimal way to partition your data as a function of\n",
    "your cluster resources and size of your data set. Given that data in a Spark DataFrame\n",
    "is row-partitioned and each worker performs its split independently of the other\n",
    "workers, if the data in the partitions changes, then the result of the split (by random\n",
    "Split() ) won’t be the same.\n",
    "- While you could fix your cluster configuration and your seed to ensure that you get\n",
    "consistent results, it is recommended to split your data once, then write it out to\n",
    "its own train/test folder so you don’t have these reproducibility issues."
   ]
  },
  {
   "cell_type": "markdown",
   "id": "b7acadd9",
   "metadata": {},
   "source": [
    "<b><font color = 'red'>Note: </font>\n",
    "During your exploratory analysis, you should cache the training\n",
    "data set because you will be accessing it many times throughout the\n",
    "machine learning process.</b>"
   ]
  },
  {
   "cell_type": "markdown",
   "id": "dd7065dc",
   "metadata": {},
   "source": [
    "### Preparing Features with Transformers\n",
    "- Now that we have split our data into training and test sets, let’s prepare the data to\n",
    "build a linear regression model predicting price given the number of bedrooms.\n",
    "-  Linear regression (like many other algorithms in\n",
    "Spark) requires that all the input features are contained within a single vector in your\n",
    "DataFrame. Thus, we need to transform our data.\n",
    "- Transformers in Spark accept a DataFrame as input and return a new DataFrame\n",
    "with one or more columns appended to it. They do not learn from your data, but\n",
    "apply rule-based transformations using the transform() method.\n",
    "- For the task of putting all of our features into a single vector, we will use the <b>VectorAssembler</b> transformer. \n",
    "- VectorAssembler takes a list of input columns and creates a new DataFrame with an additional column, which we will call features . It combines the values of those input columns into a single vector."
   ]
  },
  {
   "cell_type": "code",
   "execution_count": 7,
   "id": "bb0a25bd",
   "metadata": {},
   "outputs": [],
   "source": [
    "from pyspark.ml.feature import VectorAssembler"
   ]
  },
  {
   "cell_type": "code",
   "execution_count": 14,
   "id": "be21efe7",
   "metadata": {},
   "outputs": [],
   "source": [
    "vecAssembler = VectorAssembler(inputCols=['bedrooms'],outputCol='features')"
   ]
  },
  {
   "cell_type": "code",
   "execution_count": 15,
   "id": "0cbc6715",
   "metadata": {},
   "outputs": [
    {
     "data": {
      "text/plain": [
       "VectorAssembler_e638a0585248"
      ]
     },
     "execution_count": 15,
     "metadata": {},
     "output_type": "execute_result"
    }
   ],
   "source": [
    "vecAssembler"
   ]
  },
  {
   "cell_type": "code",
   "execution_count": 16,
   "id": "1fcdfe39",
   "metadata": {},
   "outputs": [],
   "source": [
    "vectTrainDF = vecAssembler.transform(trainDF)"
   ]
  },
  {
   "cell_type": "code",
   "execution_count": 17,
   "id": "74501db9",
   "metadata": {},
   "outputs": [
    {
     "name": "stdout",
     "output_type": "stream",
     "text": [
      "root\n",
      " |-- host_is_superhost: string (nullable = true)\n",
      " |-- cancellation_policy: string (nullable = true)\n",
      " |-- instant_bookable: string (nullable = true)\n",
      " |-- host_total_listings_count: double (nullable = true)\n",
      " |-- neighbourhood_cleansed: string (nullable = true)\n",
      " |-- latitude: double (nullable = true)\n",
      " |-- longitude: double (nullable = true)\n",
      " |-- property_type: string (nullable = true)\n",
      " |-- room_type: string (nullable = true)\n",
      " |-- accommodates: double (nullable = true)\n",
      " |-- bathrooms: double (nullable = true)\n",
      " |-- bedrooms: double (nullable = true)\n",
      " |-- beds: double (nullable = true)\n",
      " |-- bed_type: string (nullable = true)\n",
      " |-- minimum_nights: double (nullable = true)\n",
      " |-- number_of_reviews: double (nullable = true)\n",
      " |-- review_scores_rating: double (nullable = true)\n",
      " |-- review_scores_accuracy: double (nullable = true)\n",
      " |-- review_scores_cleanliness: double (nullable = true)\n",
      " |-- review_scores_checkin: double (nullable = true)\n",
      " |-- review_scores_communication: double (nullable = true)\n",
      " |-- review_scores_location: double (nullable = true)\n",
      " |-- review_scores_value: double (nullable = true)\n",
      " |-- price: double (nullable = true)\n",
      " |-- bedrooms_na: double (nullable = true)\n",
      " |-- bathrooms_na: double (nullable = true)\n",
      " |-- beds_na: double (nullable = true)\n",
      " |-- review_scores_rating_na: double (nullable = true)\n",
      " |-- review_scores_accuracy_na: double (nullable = true)\n",
      " |-- review_scores_cleanliness_na: double (nullable = true)\n",
      " |-- review_scores_checkin_na: double (nullable = true)\n",
      " |-- review_scores_communication_na: double (nullable = true)\n",
      " |-- review_scores_location_na: double (nullable = true)\n",
      " |-- review_scores_value_na: double (nullable = true)\n",
      " |-- features: vector (nullable = true)\n",
      "\n"
     ]
    }
   ],
   "source": [
    "vectTrainDF.printSchema()"
   ]
  },
  {
   "cell_type": "code",
   "execution_count": 18,
   "id": "ebb77aea",
   "metadata": {},
   "outputs": [
    {
     "name": "stdout",
     "output_type": "stream",
     "text": [
      "+--------+--------+-----+\n",
      "|bedrooms|features|price|\n",
      "+--------+--------+-----+\n",
      "|     1.0|   [1.0]|200.0|\n",
      "|     1.0|   [1.0]|130.0|\n",
      "|     1.0|   [1.0]| 95.0|\n",
      "|     1.0|   [1.0]|250.0|\n",
      "|     3.0|   [3.0]|250.0|\n",
      "+--------+--------+-----+\n",
      "only showing top 5 rows\n",
      "\n"
     ]
    }
   ],
   "source": [
    "vectTrainDF.select('bedrooms','features','price').show(5)"
   ]
  },
  {
   "cell_type": "markdown",
   "id": "9c946de2",
   "metadata": {},
   "source": [
    "### Using Estimators to Build Models\n",
    "- After setting up our vectorAssembler , we have our data prepared and transformed into a format that our linear regression model expects.\n",
    "- In Spark, <b>LinearRegression</b> is a type of <b>estimator</b>—it takes in a <b>DataFrame</b> and returns a <b>Model</b>.\n",
    "- Estimators learn parameters from your data, have an <b>estimator_name.fit()</b> method.\n",
    "\n",
    "<b><font color = 'red'>Note: </font>Estimators are eagerly evaluated (i.e., kick off Spark jobs), whereas transformers are lazily evaluated.</b>"
   ]
  },
  {
   "cell_type": "code",
   "execution_count": 8,
   "id": "6b98ff2d",
   "metadata": {},
   "outputs": [],
   "source": [
    "from pyspark.ml.regression import LinearRegression"
   ]
  },
  {
   "cell_type": "code",
   "execution_count": 20,
   "id": "c4e09183",
   "metadata": {},
   "outputs": [],
   "source": [
    "lr = LinearRegression(featuresCol='features',labelCol='price',predictionCol='prediction')"
   ]
  },
  {
   "cell_type": "code",
   "execution_count": 21,
   "id": "1d88624f",
   "metadata": {},
   "outputs": [
    {
     "data": {
      "text/plain": [
       "LinearRegression_9f6a8be18deb"
      ]
     },
     "execution_count": 21,
     "metadata": {},
     "output_type": "execute_result"
    }
   ],
   "source": [
    "lr"
   ]
  },
  {
   "cell_type": "code",
   "execution_count": 22,
   "id": "9e20e5ea",
   "metadata": {},
   "outputs": [
    {
     "name": "stderr",
     "output_type": "stream",
     "text": [
      "22/06/04 09:36:43 WARN Instrumentation: [1b6fa6dd] regParam is zero, which might cause numerical instability and overfitting.\n",
      "                                                                                \r"
     ]
    }
   ],
   "source": [
    "lrModel = lr.fit(vectTrainDF)"
   ]
  },
  {
   "cell_type": "markdown",
   "id": "0a6ca91e",
   "metadata": {},
   "source": [
    "- <b>lr.fit()</b> returns a <b>LinearRegressionModel ( lrModel )</b>, which is a <b>transformer</b>. In other words, the output of an estimator’s <b>fit()</b> method is a <b>transformer</b>.\n",
    "- Once the estimator has learned the parameters, the transformer can apply these parameters to new data points to generate predictions."
   ]
  },
  {
   "cell_type": "code",
   "execution_count": 23,
   "id": "bb5d6e68",
   "metadata": {},
   "outputs": [
    {
     "name": "stdout",
     "output_type": "stream",
     "text": [
      "The formula for the linear regression line is \u001b[1m price = 47.51 + 123.68*bedrooms \u001b[0m\n"
     ]
    }
   ],
   "source": [
    "m =round(lrModel.coefficients[0],2)\n",
    "b = round(lrModel.intercept,2)\n",
    "print(f\"The formula for the linear regression line is \\033[1m price = {b} + {m}*bedrooms \\033[0m\")"
   ]
  },
  {
   "cell_type": "markdown",
   "id": "a31df680",
   "metadata": {},
   "source": [
    "## Creating a Pipeline\n",
    "- If we want to apply our model to our test set, then we need to prepare that data in the same way as the training set (i.e., pass it through the vector assembler).\n",
    "- Oftentimes data preparation pipelines will have multiple steps, and it becomes cumbersome to remember not only which steps to apply, but also the ordering of the steps.\n",
    "- This is the motivation for the Pipeline API: you simply specify the stages you want your data to pass through, in order, and Spark takes care of the processing for you.\n",
    "- They provide the user with better code reusability and organization.\n",
    "- In Spark, <b>Pipelines are estimators, whereas PipelineModels—fitted Pipelines—are transformers</b>."
   ]
  },
  {
   "cell_type": "code",
   "execution_count": 9,
   "id": "67bb63fa",
   "metadata": {},
   "outputs": [],
   "source": [
    "# Building the pipeline\n",
    "from pyspark.ml import Pipeline"
   ]
  },
  {
   "cell_type": "code",
   "execution_count": 25,
   "id": "e0dfc3d3",
   "metadata": {},
   "outputs": [],
   "source": [
    "pipeline = Pipeline(stages=[vecAssembler,lr])"
   ]
  },
  {
   "cell_type": "code",
   "execution_count": 26,
   "id": "d8349e22",
   "metadata": {},
   "outputs": [
    {
     "name": "stderr",
     "output_type": "stream",
     "text": [
      "22/06/04 09:36:46 WARN Instrumentation: [71fce171] regParam is zero, which might cause numerical instability and overfitting.\n"
     ]
    }
   ],
   "source": [
    "pipelineModel = pipeline.fit(trainDF)"
   ]
  },
  {
   "cell_type": "markdown",
   "id": "f8933c78",
   "metadata": {},
   "source": [
    "- Another advantage of using the Pipeline API is that it determines which stages are <b>estimators/transformers</b> for you, so you don’t have to worry about specifying <b>name.fit()</b> versus <b>name.transform()</b> for each of the stages.\n",
    "- Since pipelineModel is a transformer, it is straightforward to apply it to our test data set too:"
   ]
  },
  {
   "cell_type": "code",
   "execution_count": 27,
   "id": "f9857c91",
   "metadata": {},
   "outputs": [],
   "source": [
    "predDF = pipelineModel.transform(testDF)"
   ]
  },
  {
   "cell_type": "code",
   "execution_count": 28,
   "id": "9fd8e901",
   "metadata": {},
   "outputs": [
    {
     "name": "stdout",
     "output_type": "stream",
     "text": [
      "root\n",
      " |-- host_is_superhost: string (nullable = true)\n",
      " |-- cancellation_policy: string (nullable = true)\n",
      " |-- instant_bookable: string (nullable = true)\n",
      " |-- host_total_listings_count: double (nullable = true)\n",
      " |-- neighbourhood_cleansed: string (nullable = true)\n",
      " |-- latitude: double (nullable = true)\n",
      " |-- longitude: double (nullable = true)\n",
      " |-- property_type: string (nullable = true)\n",
      " |-- room_type: string (nullable = true)\n",
      " |-- accommodates: double (nullable = true)\n",
      " |-- bathrooms: double (nullable = true)\n",
      " |-- bedrooms: double (nullable = true)\n",
      " |-- beds: double (nullable = true)\n",
      " |-- bed_type: string (nullable = true)\n",
      " |-- minimum_nights: double (nullable = true)\n",
      " |-- number_of_reviews: double (nullable = true)\n",
      " |-- review_scores_rating: double (nullable = true)\n",
      " |-- review_scores_accuracy: double (nullable = true)\n",
      " |-- review_scores_cleanliness: double (nullable = true)\n",
      " |-- review_scores_checkin: double (nullable = true)\n",
      " |-- review_scores_communication: double (nullable = true)\n",
      " |-- review_scores_location: double (nullable = true)\n",
      " |-- review_scores_value: double (nullable = true)\n",
      " |-- price: double (nullable = true)\n",
      " |-- bedrooms_na: double (nullable = true)\n",
      " |-- bathrooms_na: double (nullable = true)\n",
      " |-- beds_na: double (nullable = true)\n",
      " |-- review_scores_rating_na: double (nullable = true)\n",
      " |-- review_scores_accuracy_na: double (nullable = true)\n",
      " |-- review_scores_cleanliness_na: double (nullable = true)\n",
      " |-- review_scores_checkin_na: double (nullable = true)\n",
      " |-- review_scores_communication_na: double (nullable = true)\n",
      " |-- review_scores_location_na: double (nullable = true)\n",
      " |-- review_scores_value_na: double (nullable = true)\n",
      " |-- features: vector (nullable = true)\n",
      " |-- prediction: double (nullable = false)\n",
      "\n"
     ]
    }
   ],
   "source": [
    "predDF.printSchema()"
   ]
  },
  {
   "cell_type": "code",
   "execution_count": 29,
   "id": "bede2d88",
   "metadata": {},
   "outputs": [
    {
     "name": "stdout",
     "output_type": "stream",
     "text": [
      "+--------+--------+------+------------------+\n",
      "|bedrooms|features| price|        prediction|\n",
      "+--------+--------+------+------------------+\n",
      "|     1.0|   [1.0]|  85.0|171.18598011578285|\n",
      "|     1.0|   [1.0]|  45.0|171.18598011578285|\n",
      "|     1.0|   [1.0]|  70.0|171.18598011578285|\n",
      "|     1.0|   [1.0]| 128.0|171.18598011578285|\n",
      "|     1.0|   [1.0]| 159.0|171.18598011578285|\n",
      "|     2.0|   [2.0]| 250.0|294.86172649777757|\n",
      "|     1.0|   [1.0]|  99.0|171.18598011578285|\n",
      "|     1.0|   [1.0]|  95.0|171.18598011578285|\n",
      "|     1.0|   [1.0]| 100.0|171.18598011578285|\n",
      "|     1.0|   [1.0]|2010.0|171.18598011578285|\n",
      "+--------+--------+------+------------------+\n",
      "only showing top 10 rows\n",
      "\n"
     ]
    }
   ],
   "source": [
    "predDF.select(\"bedrooms\",'features','price','prediction').show(10)"
   ]
  },
  {
   "cell_type": "markdown",
   "id": "521b4b81",
   "metadata": {},
   "source": [
    "## Multivariable Linear Regression\n",
    "In the pipeline we just created, we only had two stages, and our linear regression\n",
    "model only used one feature. Let’s take a look at how to build a slightly more complex\n",
    "pipeline that incorporates all of our numeric and categorical features."
   ]
  },
  {
   "cell_type": "markdown",
   "id": "d9483711",
   "metadata": {},
   "source": [
    "### One-hot encoding\n",
    "- Most machine learning models in MLlib expect numerical values as input, represented as vectors.\n",
    "- To convert categorical values into numeric values, we can use a\n",
    "technique called <b>one-hot encoding (OHE)</b>.\n",
    "- Suppose we have a column called Animal\n",
    "and we have three types of animals: Dog , Cat , and Fish . We can’t pass the string types\n",
    "into our ML model directly, so we need to assign a numeric mapping, such as this:<br>\n",
    "<center><b>Animal = {\"Dog\", \"Cat\", \"Fish\"}</b></center>\n",
    "<center><b>\"Dog\" = 1, \"Cat\" = 2, \"Fish\" = 3</b></center>\n",
    "- However, using this approach we’ve introduced some <b>spurious relationships</b> into our\n",
    "data set that weren’t there before. For example, <b>why did we assign Cat twice the value\n",
    "of Dog ?</b> The numeric values we use should not introduce any relationships into our\n",
    "data set. Instead, we want to create a separate column for every distinct value in our\n",
    "Animal column:\n",
    "<center><b>\"Dog\" = [ 1, 0, 0]</b></center>\n",
    "<center><b>\"Cat\" = [ 0, 1, 0]</b></center>\n",
    "<center><b>\"Fish\" = [0, 0, 1]</b></center>\n",
    "If the animal is a dog, it has a one in the first column and zeros elsewhere. If it is a cat,\n",
    "it has a one in the second column and zeros elsewhere. The ordering of the columns\n",
    "is irrelevant. It is as <b>pandas.get_dummies()</b>.<br>\n",
    "If we had a zoo of <b>300 animals</b>, would <b>OHE</b> massively increase consumption of memory/compute resources? <b><i>Not with Spark!</i></b> Spark internally uses a <b>SparseVector</b> when\n",
    "the majority of the entries are 0 , <i>as is often the case after OHE</i>, so it does not waste\n",
    "space storing 0 values. Let’s take a look at an example to better understand how\n",
    "SparseVector s work:\n",
    "<center><b>DenseVector(0, 0, 0, 7, 0, 2, 0, 0, 0, 0)</b></center>\n",
    "<center><b>SparseVector(10, [3, 5], [7, 2])</b></center>\n",
    "The <b>DenseVector</b> in this example contains 10 values, all but 2 of which are 0 . To create a SparseVector , we need to keep track of the size of the vector, the indices of the\n",
    "nonzero elements, and the corresponding values at those indices. <i>In this example the\n",
    "size of the vector is 10, there are two nonzero values at indices 3 and 5, and the corresponding values at those indices are 7 and 2.</i><br>\n",
    "<br>A common approach to one-hot encode your data with Spark is to use the <b>StringIndexer and OneHotEncoder</b>. With this approach, the first step is to\n",
    "apply the <b>StringIndexer <i>estimator<i></b> to convert categorical values into category indices. These category indices are ordered by label frequencies, so the most frequent\n",
    "label gets index 0, which provides us with reproducible results across various runs of\n",
    "the same data.<br>\n",
    "Once you have created your category indices, you can pass those as input to the\n",
    "<b>OneHotEncoder</b>. The <b>OneHotEncoder<i> (estimator)</i></b> maps a column of category indices to a column of binary vectors. "
   ]
  },
  {
   "cell_type": "markdown",
   "id": "724ce686",
   "metadata": {},
   "source": [
    "<b><font color='red'>Note: </font> In our data set, any column of type string is treated as a categorical feature, but sometimes you might have numeric features you want treated as categorical or vice versa.</b>"
   ]
  },
  {
   "cell_type": "code",
   "execution_count": 64,
   "id": "fa563dc9",
   "metadata": {},
   "outputs": [],
   "source": [
    "import pandas as pd"
   ]
  },
  {
   "cell_type": "code",
   "execution_count": 34,
   "id": "9b0aafd7",
   "metadata": {},
   "outputs": [],
   "source": [
    "s = pd.Series(list('abca'))"
   ]
  },
  {
   "cell_type": "code",
   "execution_count": 35,
   "id": "063e0287",
   "metadata": {},
   "outputs": [
    {
     "data": {
      "text/plain": [
       "0    a\n",
       "1    b\n",
       "2    c\n",
       "3    a\n",
       "dtype: object"
      ]
     },
     "execution_count": 35,
     "metadata": {},
     "output_type": "execute_result"
    }
   ],
   "source": [
    "s"
   ]
  },
  {
   "cell_type": "code",
   "execution_count": 66,
   "id": "6e01ed38",
   "metadata": {},
   "outputs": [
    {
     "data": {
      "text/html": [
       "<div>\n",
       "<style scoped>\n",
       "    .dataframe tbody tr th:only-of-type {\n",
       "        vertical-align: middle;\n",
       "    }\n",
       "\n",
       "    .dataframe tbody tr th {\n",
       "        vertical-align: top;\n",
       "    }\n",
       "\n",
       "    .dataframe thead th {\n",
       "        text-align: right;\n",
       "    }\n",
       "</style>\n",
       "<table border=\"1\" class=\"dataframe\">\n",
       "  <thead>\n",
       "    <tr style=\"text-align: right;\">\n",
       "      <th></th>\n",
       "      <th>a</th>\n",
       "      <th>b</th>\n",
       "      <th>c</th>\n",
       "    </tr>\n",
       "  </thead>\n",
       "  <tbody>\n",
       "    <tr>\n",
       "      <th>0</th>\n",
       "      <td>1</td>\n",
       "      <td>0</td>\n",
       "      <td>0</td>\n",
       "    </tr>\n",
       "    <tr>\n",
       "      <th>1</th>\n",
       "      <td>0</td>\n",
       "      <td>1</td>\n",
       "      <td>0</td>\n",
       "    </tr>\n",
       "    <tr>\n",
       "      <th>2</th>\n",
       "      <td>0</td>\n",
       "      <td>0</td>\n",
       "      <td>1</td>\n",
       "    </tr>\n",
       "    <tr>\n",
       "      <th>3</th>\n",
       "      <td>1</td>\n",
       "      <td>0</td>\n",
       "      <td>0</td>\n",
       "    </tr>\n",
       "  </tbody>\n",
       "</table>\n",
       "</div>"
      ],
      "text/plain": [
       "   a  b  c\n",
       "0  1  0  0\n",
       "1  0  1  0\n",
       "2  0  0  1\n",
       "3  1  0  0"
      ]
     },
     "execution_count": 66,
     "metadata": {},
     "output_type": "execute_result"
    }
   ],
   "source": [
    "pd.get_dummies(s)"
   ]
  },
  {
   "cell_type": "code",
   "execution_count": 65,
   "id": "88dd7aa9",
   "metadata": {},
   "outputs": [
    {
     "data": {
      "text/html": [
       "<div>\n",
       "<style scoped>\n",
       "    .dataframe tbody tr th:only-of-type {\n",
       "        vertical-align: middle;\n",
       "    }\n",
       "\n",
       "    .dataframe tbody tr th {\n",
       "        vertical-align: top;\n",
       "    }\n",
       "\n",
       "    .dataframe thead th {\n",
       "        text-align: right;\n",
       "    }\n",
       "</style>\n",
       "<table border=\"1\" class=\"dataframe\">\n",
       "  <thead>\n",
       "    <tr style=\"text-align: right;\">\n",
       "      <th></th>\n",
       "      <th>a</th>\n",
       "      <th>b</th>\n",
       "      <th>c</th>\n",
       "    </tr>\n",
       "  </thead>\n",
       "  <tbody>\n",
       "    <tr>\n",
       "      <th>0</th>\n",
       "      <td>1</td>\n",
       "      <td>0</td>\n",
       "      <td>0</td>\n",
       "    </tr>\n",
       "    <tr>\n",
       "      <th>1</th>\n",
       "      <td>0</td>\n",
       "      <td>1</td>\n",
       "      <td>0</td>\n",
       "    </tr>\n",
       "    <tr>\n",
       "      <th>2</th>\n",
       "      <td>0</td>\n",
       "      <td>0</td>\n",
       "      <td>1</td>\n",
       "    </tr>\n",
       "    <tr>\n",
       "      <th>3</th>\n",
       "      <td>1</td>\n",
       "      <td>0</td>\n",
       "      <td>0</td>\n",
       "    </tr>\n",
       "  </tbody>\n",
       "</table>\n",
       "</div>"
      ],
      "text/plain": [
       "   a  b  c\n",
       "0  1  0  0\n",
       "1  0  1  0\n",
       "2  0  0  1\n",
       "3  1  0  0"
      ]
     },
     "execution_count": 65,
     "metadata": {},
     "output_type": "execute_result"
    }
   ],
   "source": [
    "pd.get_dummies(list('abca'))"
   ]
  },
  {
   "cell_type": "code",
   "execution_count": 36,
   "id": "bdd5e043",
   "metadata": {},
   "outputs": [],
   "source": [
    "from sklearn.preprocessing import OneHotEncoder"
   ]
  },
  {
   "cell_type": "code",
   "execution_count": 37,
   "id": "2dc604ad",
   "metadata": {},
   "outputs": [],
   "source": [
    "enc = OneHotEncoder(handle_unknown='ignore')"
   ]
  },
  {
   "cell_type": "code",
   "execution_count": 41,
   "id": "47aa1788",
   "metadata": {},
   "outputs": [],
   "source": [
    "import numpy as np"
   ]
  },
  {
   "cell_type": "code",
   "execution_count": 54,
   "id": "8d6b32d6",
   "metadata": {},
   "outputs": [],
   "source": [
    "A = np.array(list('abca')).reshape(-1,1)"
   ]
  },
  {
   "cell_type": "code",
   "execution_count": 63,
   "id": "11f41d44",
   "metadata": {},
   "outputs": [
    {
     "data": {
      "text/plain": [
       "array([[1., 0., 0.],\n",
       "       [0., 1., 0.],\n",
       "       [0., 0., 1.],\n",
       "       [1., 0., 0.]])"
      ]
     },
     "execution_count": 63,
     "metadata": {},
     "output_type": "execute_result"
    }
   ],
   "source": [
    "enc.fit_transform(A).toarray()"
   ]
  },
  {
   "cell_type": "code",
   "execution_count": 10,
   "id": "55d8f56b",
   "metadata": {},
   "outputs": [],
   "source": [
    "from pyspark.ml.feature import StringIndexer, OneHotEncoder"
   ]
  },
  {
   "cell_type": "code",
   "execution_count": 11,
   "id": "24579127",
   "metadata": {},
   "outputs": [
    {
     "data": {
      "text/plain": [
       "[('host_is_superhost', 'string'),\n",
       " ('cancellation_policy', 'string'),\n",
       " ('instant_bookable', 'string'),\n",
       " ('host_total_listings_count', 'double'),\n",
       " ('neighbourhood_cleansed', 'string'),\n",
       " ('latitude', 'double'),\n",
       " ('longitude', 'double'),\n",
       " ('property_type', 'string'),\n",
       " ('room_type', 'string'),\n",
       " ('accommodates', 'double'),\n",
       " ('bathrooms', 'double'),\n",
       " ('bedrooms', 'double'),\n",
       " ('beds', 'double'),\n",
       " ('bed_type', 'string'),\n",
       " ('minimum_nights', 'double'),\n",
       " ('number_of_reviews', 'double'),\n",
       " ('review_scores_rating', 'double'),\n",
       " ('review_scores_accuracy', 'double'),\n",
       " ('review_scores_cleanliness', 'double'),\n",
       " ('review_scores_checkin', 'double'),\n",
       " ('review_scores_communication', 'double'),\n",
       " ('review_scores_location', 'double'),\n",
       " ('review_scores_value', 'double'),\n",
       " ('price', 'double'),\n",
       " ('bedrooms_na', 'double'),\n",
       " ('bathrooms_na', 'double'),\n",
       " ('beds_na', 'double'),\n",
       " ('review_scores_rating_na', 'double'),\n",
       " ('review_scores_accuracy_na', 'double'),\n",
       " ('review_scores_cleanliness_na', 'double'),\n",
       " ('review_scores_checkin_na', 'double'),\n",
       " ('review_scores_communication_na', 'double'),\n",
       " ('review_scores_location_na', 'double'),\n",
       " ('review_scores_value_na', 'double')]"
      ]
     },
     "execution_count": 11,
     "metadata": {},
     "output_type": "execute_result"
    }
   ],
   "source": [
    "trainDF.dtypes"
   ]
  },
  {
   "cell_type": "code",
   "execution_count": 12,
   "id": "11631545",
   "metadata": {},
   "outputs": [],
   "source": [
    "categoricalCols = [field for (field, dataType) in trainDF.dtypes\n",
    "                  if dataType == 'string']"
   ]
  },
  {
   "cell_type": "code",
   "execution_count": 13,
   "id": "7f7001dc",
   "metadata": {},
   "outputs": [
    {
     "data": {
      "text/plain": [
       "['host_is_superhost',\n",
       " 'cancellation_policy',\n",
       " 'instant_bookable',\n",
       " 'neighbourhood_cleansed',\n",
       " 'property_type',\n",
       " 'room_type',\n",
       " 'bed_type']"
      ]
     },
     "execution_count": 13,
     "metadata": {},
     "output_type": "execute_result"
    }
   ],
   "source": [
    "categoricalCols"
   ]
  },
  {
   "cell_type": "code",
   "execution_count": 14,
   "id": "7dce0a21",
   "metadata": {},
   "outputs": [
    {
     "data": {
      "text/plain": [
       "['host_is_superhost_Index',\n",
       " 'cancellation_policy_Index',\n",
       " 'instant_bookable_Index',\n",
       " 'neighbourhood_cleansed_Index',\n",
       " 'property_type_Index',\n",
       " 'room_type_Index',\n",
       " 'bed_type_Index']"
      ]
     },
     "execution_count": 14,
     "metadata": {},
     "output_type": "execute_result"
    }
   ],
   "source": [
    "indexOutputCols = [x + \"_Index\" for x in categoricalCols]\n",
    "indexOutputCols"
   ]
  },
  {
   "cell_type": "code",
   "execution_count": 15,
   "id": "a1a60905",
   "metadata": {},
   "outputs": [
    {
     "data": {
      "text/plain": [
       "['host_is_superhost_OHE',\n",
       " 'cancellation_policy_OHE',\n",
       " 'instant_bookable_OHE',\n",
       " 'neighbourhood_cleansed_OHE',\n",
       " 'property_type_OHE',\n",
       " 'room_type_OHE',\n",
       " 'bed_type_OHE']"
      ]
     },
     "execution_count": 15,
     "metadata": {},
     "output_type": "execute_result"
    }
   ],
   "source": [
    "oheOutputCols = [x + \"_OHE\" for x in categoricalCols]\n",
    "oheOutputCols"
   ]
  },
  {
   "cell_type": "code",
   "execution_count": 16,
   "id": "62b5924e",
   "metadata": {},
   "outputs": [],
   "source": [
    "stringIndexer = StringIndexer(inputCols=categoricalCols,\n",
    "                              outputCols=indexOutputCols,\n",
    "                             handleInvalid='skip')\n",
    "\n",
    "oheEncoder = OneHotEncoder(inputCols=indexOutputCols,\n",
    "                          outputCols=oheOutputCols)"
   ]
  },
  {
   "cell_type": "code",
   "execution_count": 17,
   "id": "c5901900",
   "metadata": {},
   "outputs": [
    {
     "data": {
      "text/plain": [
       "['host_total_listings_count',\n",
       " 'latitude',\n",
       " 'longitude',\n",
       " 'accommodates',\n",
       " 'bathrooms',\n",
       " 'bedrooms',\n",
       " 'beds',\n",
       " 'minimum_nights',\n",
       " 'number_of_reviews',\n",
       " 'review_scores_rating',\n",
       " 'review_scores_accuracy',\n",
       " 'review_scores_cleanliness',\n",
       " 'review_scores_checkin',\n",
       " 'review_scores_communication',\n",
       " 'review_scores_location',\n",
       " 'review_scores_value',\n",
       " 'bedrooms_na',\n",
       " 'bathrooms_na',\n",
       " 'beds_na',\n",
       " 'review_scores_rating_na',\n",
       " 'review_scores_accuracy_na',\n",
       " 'review_scores_cleanliness_na',\n",
       " 'review_scores_checkin_na',\n",
       " 'review_scores_communication_na',\n",
       " 'review_scores_location_na',\n",
       " 'review_scores_value_na']"
      ]
     },
     "execution_count": 17,
     "metadata": {},
     "output_type": "execute_result"
    }
   ],
   "source": [
    "numericCols = [field for (field,dataType) in trainDF.dtypes\n",
    "              if ((dataType=='double')&(field!='price'))]\n",
    "numericCols"
   ]
  },
  {
   "cell_type": "code",
   "execution_count": 18,
   "id": "87af0da2",
   "metadata": {},
   "outputs": [
    {
     "data": {
      "text/plain": [
       "['host_is_superhost_OHE',\n",
       " 'cancellation_policy_OHE',\n",
       " 'instant_bookable_OHE',\n",
       " 'neighbourhood_cleansed_OHE',\n",
       " 'property_type_OHE',\n",
       " 'room_type_OHE',\n",
       " 'bed_type_OHE',\n",
       " 'host_total_listings_count',\n",
       " 'latitude',\n",
       " 'longitude',\n",
       " 'accommodates',\n",
       " 'bathrooms',\n",
       " 'bedrooms',\n",
       " 'beds',\n",
       " 'minimum_nights',\n",
       " 'number_of_reviews',\n",
       " 'review_scores_rating',\n",
       " 'review_scores_accuracy',\n",
       " 'review_scores_cleanliness',\n",
       " 'review_scores_checkin',\n",
       " 'review_scores_communication',\n",
       " 'review_scores_location',\n",
       " 'review_scores_value',\n",
       " 'bedrooms_na',\n",
       " 'bathrooms_na',\n",
       " 'beds_na',\n",
       " 'review_scores_rating_na',\n",
       " 'review_scores_accuracy_na',\n",
       " 'review_scores_cleanliness_na',\n",
       " 'review_scores_checkin_na',\n",
       " 'review_scores_communication_na',\n",
       " 'review_scores_location_na',\n",
       " 'review_scores_value_na']"
      ]
     },
     "execution_count": 18,
     "metadata": {},
     "output_type": "execute_result"
    }
   ],
   "source": [
    "assemblerInputs = oheOutputCols + numericCols\n",
    "assemblerInputs"
   ]
  },
  {
   "cell_type": "code",
   "execution_count": 19,
   "id": "de0e6a4e",
   "metadata": {},
   "outputs": [],
   "source": [
    "vecAssembler = VectorAssembler(inputCols=assemblerInputs,outputCol='features')"
   ]
  },
  {
   "cell_type": "markdown",
   "id": "0535e465",
   "metadata": {},
   "source": [
    "- Now you might be wondering, “How does the StringIndexer handle new categories that appear in the test data set, but not in the training data set?” \n",
    "- There is a handleInvalid parameter that specifies how you want to handle them. \n",
    "- The option are <b><i>skip (filter out rows with invalid data), error (throw an error), or keep (put invalid data in a special additional bucket, at index numLabels )</b></i>. \n",
    "- For this example, we just skipped the invalid records.\n",
    "- <b>For more information and detailed explanation check the following resources:</b><br>\n",
    "https://stackoverflow.com/questions/34681534/spark-ml-stringindexer-handling-unseen-labels<br>\n",
    "https://spark.apache.org/docs/latest/ml-features.html#stringindexer"
   ]
  },
  {
   "cell_type": "code",
   "execution_count": 20,
   "id": "aac78119",
   "metadata": {},
   "outputs": [],
   "source": [
    "lr = LinearRegression(featuresCol='features',\n",
    "                      labelCol='price',\n",
    "                      predictionCol='prediction')"
   ]
  },
  {
   "cell_type": "code",
   "execution_count": 21,
   "id": "e532d8d9",
   "metadata": {},
   "outputs": [],
   "source": [
    "pipeline = Pipeline(stages=[stringIndexer,oheEncoder,\n",
    "                           vecAssembler,lr])"
   ]
  },
  {
   "cell_type": "code",
   "execution_count": 22,
   "id": "2973426c",
   "metadata": {},
   "outputs": [
    {
     "name": "stderr",
     "output_type": "stream",
     "text": [
      "22/06/04 09:48:52 WARN Instrumentation: [86af098a] regParam is zero, which might cause numerical instability and overfitting.\n",
      "                                                                                \r"
     ]
    }
   ],
   "source": [
    "pipelineModel = pipeline.fit(trainDF)"
   ]
  },
  {
   "cell_type": "code",
   "execution_count": 23,
   "id": "c2d4aadb",
   "metadata": {},
   "outputs": [],
   "source": [
    "predDF = pipelineModel.transform(testDF)"
   ]
  },
  {
   "cell_type": "code",
   "execution_count": 24,
   "id": "e8288b79",
   "metadata": {
    "scrolled": false
   },
   "outputs": [
    {
     "name": "stdout",
     "output_type": "stream",
     "text": [
      "root\n",
      " |-- host_is_superhost: string (nullable = true)\n",
      " |-- cancellation_policy: string (nullable = true)\n",
      " |-- instant_bookable: string (nullable = true)\n",
      " |-- host_total_listings_count: double (nullable = true)\n",
      " |-- neighbourhood_cleansed: string (nullable = true)\n",
      " |-- latitude: double (nullable = true)\n",
      " |-- longitude: double (nullable = true)\n",
      " |-- property_type: string (nullable = true)\n",
      " |-- room_type: string (nullable = true)\n",
      " |-- accommodates: double (nullable = true)\n",
      " |-- bathrooms: double (nullable = true)\n",
      " |-- bedrooms: double (nullable = true)\n",
      " |-- beds: double (nullable = true)\n",
      " |-- bed_type: string (nullable = true)\n",
      " |-- minimum_nights: double (nullable = true)\n",
      " |-- number_of_reviews: double (nullable = true)\n",
      " |-- review_scores_rating: double (nullable = true)\n",
      " |-- review_scores_accuracy: double (nullable = true)\n",
      " |-- review_scores_cleanliness: double (nullable = true)\n",
      " |-- review_scores_checkin: double (nullable = true)\n",
      " |-- review_scores_communication: double (nullable = true)\n",
      " |-- review_scores_location: double (nullable = true)\n",
      " |-- review_scores_value: double (nullable = true)\n",
      " |-- price: double (nullable = true)\n",
      " |-- bedrooms_na: double (nullable = true)\n",
      " |-- bathrooms_na: double (nullable = true)\n",
      " |-- beds_na: double (nullable = true)\n",
      " |-- review_scores_rating_na: double (nullable = true)\n",
      " |-- review_scores_accuracy_na: double (nullable = true)\n",
      " |-- review_scores_cleanliness_na: double (nullable = true)\n",
      " |-- review_scores_checkin_na: double (nullable = true)\n",
      " |-- review_scores_communication_na: double (nullable = true)\n",
      " |-- review_scores_location_na: double (nullable = true)\n",
      " |-- review_scores_value_na: double (nullable = true)\n",
      " |-- host_is_superhost_Index: double (nullable = false)\n",
      " |-- cancellation_policy_Index: double (nullable = false)\n",
      " |-- instant_bookable_Index: double (nullable = false)\n",
      " |-- neighbourhood_cleansed_Index: double (nullable = false)\n",
      " |-- property_type_Index: double (nullable = false)\n",
      " |-- room_type_Index: double (nullable = false)\n",
      " |-- bed_type_Index: double (nullable = false)\n",
      " |-- host_is_superhost_OHE: vector (nullable = true)\n",
      " |-- cancellation_policy_OHE: vector (nullable = true)\n",
      " |-- instant_bookable_OHE: vector (nullable = true)\n",
      " |-- neighbourhood_cleansed_OHE: vector (nullable = true)\n",
      " |-- property_type_OHE: vector (nullable = true)\n",
      " |-- room_type_OHE: vector (nullable = true)\n",
      " |-- bed_type_OHE: vector (nullable = true)\n",
      " |-- features: vector (nullable = true)\n",
      " |-- prediction: double (nullable = false)\n",
      "\n"
     ]
    }
   ],
   "source": [
    "predDF.printSchema()"
   ]
  },
  {
   "cell_type": "code",
   "execution_count": 25,
   "id": "e484298f",
   "metadata": {
    "scrolled": false
   },
   "outputs": [
    {
     "name": "stdout",
     "output_type": "stream",
     "text": [
      "+-------------------+-------------------------+-----------------------+\n",
      "|cancellation_policy|cancellation_policy_Index|cancellation_policy_OHE|\n",
      "+-------------------+-------------------------+-----------------------+\n",
      "|           flexible|                      2.0|          (5,[2],[1.0])|\n",
      "|           flexible|                      2.0|          (5,[2],[1.0])|\n",
      "|           flexible|                      2.0|          (5,[2],[1.0])|\n",
      "|           flexible|                      2.0|          (5,[2],[1.0])|\n",
      "|           flexible|                      2.0|          (5,[2],[1.0])|\n",
      "|           flexible|                      2.0|          (5,[2],[1.0])|\n",
      "|           flexible|                      2.0|          (5,[2],[1.0])|\n",
      "|           flexible|                      2.0|          (5,[2],[1.0])|\n",
      "|           flexible|                      2.0|          (5,[2],[1.0])|\n",
      "|           flexible|                      2.0|          (5,[2],[1.0])|\n",
      "|           flexible|                      2.0|          (5,[2],[1.0])|\n",
      "|           flexible|                      2.0|          (5,[2],[1.0])|\n",
      "|           flexible|                      2.0|          (5,[2],[1.0])|\n",
      "|           flexible|                      2.0|          (5,[2],[1.0])|\n",
      "|           flexible|                      2.0|          (5,[2],[1.0])|\n",
      "|           flexible|                      2.0|          (5,[2],[1.0])|\n",
      "|           flexible|                      2.0|          (5,[2],[1.0])|\n",
      "|           flexible|                      2.0|          (5,[2],[1.0])|\n",
      "|           flexible|                      2.0|          (5,[2],[1.0])|\n",
      "|           flexible|                      2.0|          (5,[2],[1.0])|\n",
      "+-------------------+-------------------------+-----------------------+\n",
      "only showing top 20 rows\n",
      "\n"
     ]
    }
   ],
   "source": [
    "predDF.select('cancellation_policy','cancellation_policy_Index','cancellation_policy_OHE').show()"
   ]
  },
  {
   "cell_type": "code",
   "execution_count": 26,
   "id": "abc9aad9",
   "metadata": {},
   "outputs": [
    {
     "name": "stdout",
     "output_type": "stream",
     "text": [
      "+--------------------+-----+------------------+\n",
      "|            features|price|        prediction|\n",
      "+--------------------+-----+------------------+\n",
      "|(98,[0,3,6,22,43,...| 85.0| 55.24365707389188|\n",
      "|(98,[0,3,6,22,43,...| 45.0|23.357685914717877|\n",
      "|(98,[0,3,6,22,43,...| 70.0|28.474464479034395|\n",
      "|(98,[0,3,6,12,42,...|128.0| -91.6079079594947|\n",
      "|(98,[0,3,6,12,43,...|159.0| 95.05688229945372|\n",
      "+--------------------+-----+------------------+\n",
      "only showing top 5 rows\n",
      "\n"
     ]
    },
    {
     "name": "stderr",
     "output_type": "stream",
     "text": [
      "\r",
      "[Stage 13:>                                                         (0 + 1) / 1]\r",
      "\r",
      "                                                                                \r"
     ]
    }
   ],
   "source": [
    "predDF.select('features','price','prediction').show(5)"
   ]
  },
  {
   "cell_type": "code",
   "execution_count": 28,
   "id": "71b9e1c1",
   "metadata": {},
   "outputs": [
    {
     "name": "stdout",
     "output_type": "stream",
     "text": [
      "+------------------------------------------------------------------------------------------------------------------------------------------------------------------------------------------+-----+-----------------+\n",
      "|features                                                                                                                                                                                  |price|prediction       |\n",
      "+------------------------------------------------------------------------------------------------------------------------------------------------------------------------------------------+-----+-----------------+\n",
      "|(98,[0,3,6,22,43,66,68,72,73,74,75,76,77,78,79,80,81,82,83,84,85,86,87],[1.0,1.0,1.0,1.0,1.0,1.0,1.0,1.0,37.72001,-122.39249,2.0,1.0,1.0,1.0,2.0,128.0,97.0,10.0,10.0,10.0,10.0,9.0,10.0])|85.0 |55.24365707389188|\n",
      "+------------------------------------------------------------------------------------------------------------------------------------------------------------------------------------------+-----+-----------------+\n",
      "only showing top 1 row\n",
      "\n"
     ]
    }
   ],
   "source": [
    "predDF.select('features','price','prediction').show(1,truncate=False)"
   ]
  },
  {
   "cell_type": "markdown",
   "id": "cb0d65ea",
   "metadata": {},
   "source": [
    "### Model Evaluation"
   ]
  },
  {
   "cell_type": "code",
   "execution_count": 29,
   "id": "a2e8bd37",
   "metadata": {},
   "outputs": [],
   "source": [
    "# Using RMSE\n",
    "from pyspark.ml.evaluation import RegressionEvaluator"
   ]
  },
  {
   "cell_type": "code",
   "execution_count": 30,
   "id": "456326a8",
   "metadata": {},
   "outputs": [],
   "source": [
    "regressionEvaluator = RegressionEvaluator(predictionCol='prediction',\n",
    "                                         labelCol='price',\n",
    "                                         metricName='rmse')"
   ]
  },
  {
   "cell_type": "code",
   "execution_count": 31,
   "id": "ec49da10",
   "metadata": {},
   "outputs": [],
   "source": [
    "rmse = regressionEvaluator.evaluate(predDF)"
   ]
  },
  {
   "cell_type": "code",
   "execution_count": 32,
   "id": "f3513491",
   "metadata": {},
   "outputs": [
    {
     "name": "stdout",
     "output_type": "stream",
     "text": [
      "RMSE is 220.6\n"
     ]
    }
   ],
   "source": [
    "print(f\"RMSE is {rmse:.1f}\")"
   ]
  },
  {
   "cell_type": "code",
   "execution_count": 33,
   "id": "a4efc9e5",
   "metadata": {},
   "outputs": [
    {
     "name": "stdout",
     "output_type": "stream",
     "text": [
      "R2 is 0.16043316698848087\n"
     ]
    }
   ],
   "source": [
    "r2 = RegressionEvaluator(predictionCol='prediction',\n",
    "                                         labelCol='price',\n",
    "                                         metricName='r2').evaluate(predDF)\n",
    "print(f\"R2 is {r2}\")"
   ]
  },
  {
   "cell_type": "markdown",
   "id": "0c4f47f8",
   "metadata": {},
   "source": [
    "- Our R2 is positive, but it’s very close to 0. One of the reasons why our model is not performing too well is because our label, price , appears to be <b>log-normally distributed</b>.\n",
    "- If a distribution is log-normal, it means that if we take the logarithm of the\n",
    "value, the result looks like a normal distribution.\n",
    "- Price is often log-normally distributed. If you think about rental prices in San Francisco, most cost around $200 per\n",
    "night, but there are some that rent for thousands of dollars a night!"
   ]
  },
  {
   "cell_type": "code",
   "execution_count": 34,
   "id": "4666a9cf",
   "metadata": {},
   "outputs": [],
   "source": [
    "price  = airbnbDF.select('price').toPandas()"
   ]
  },
  {
   "cell_type": "code",
   "execution_count": 35,
   "id": "95e22461",
   "metadata": {},
   "outputs": [],
   "source": [
    "import seaborn as sns\n",
    "import matplotlib.pyplot as plt"
   ]
  },
  {
   "cell_type": "code",
   "execution_count": 43,
   "id": "4e1e6884",
   "metadata": {},
   "outputs": [
    {
     "data": {
      "text/plain": [
       "<AxesSubplot:xlabel='price', ylabel='Count'>"
      ]
     },
     "execution_count": 43,
     "metadata": {},
     "output_type": "execute_result"
    },
    {
     "data": {
      "image/png": "[encoded data removed]",
      "text/plain": [
       "<Figure size 720x432 with 1 Axes>"
      ]
     },
     "metadata": {
      "needs_background": "light"
     },
     "output_type": "display_data"
    }
   ],
   "source": [
    "plt.figure(figsize=(10,6))\n",
    "plt.grid()\n",
    "sns.histplot(price['price'],bins=200)"
   ]
  },
  {
   "cell_type": "code",
   "execution_count": 41,
   "id": "3e85344c",
   "metadata": {},
   "outputs": [
    {
     "data": {
      "text/plain": [
       "<AxesSubplot:>"
      ]
     },
     "execution_count": 41,
     "metadata": {},
     "output_type": "execute_result"
    },
    {
     "data": {
      "image/png": "[encoded data removed]",
      "text/plain": [
       "<Figure size 720x432 with 1 Axes>"
      ]
     },
     "metadata": {
      "needs_background": "light"
     },
     "output_type": "display_data"
    }
   ],
   "source": [
    "plt.figure(figsize=(10,6))\n",
    "price['price'].hist(bins=200)"
   ]
  },
  {
   "cell_type": "code",
   "execution_count": 44,
   "id": "e34f10b4",
   "metadata": {},
   "outputs": [],
   "source": [
    "import math"
   ]
  },
  {
   "cell_type": "code",
   "execution_count": 48,
   "id": "cf8dfabd",
   "metadata": {},
   "outputs": [],
   "source": [
    "from pyspark.sql.functions import log,col"
   ]
  },
  {
   "cell_type": "code",
   "execution_count": 50,
   "id": "fbf3e624",
   "metadata": {},
   "outputs": [
    {
     "name": "stdout",
     "output_type": "stream",
     "text": [
      "+-----+-----------------+\n",
      "|price|         logprice|\n",
      "+-----+-----------------+\n",
      "|170.0|5.135798437050262|\n",
      "|235.0|5.459585514144159|\n",
      "| 65.0|4.174387269895637|\n",
      "| 65.0|4.174387269895637|\n",
      "|785.0|6.665683717782408|\n",
      "+-----+-----------------+\n",
      "only showing top 5 rows\n",
      "\n"
     ]
    }
   ],
   "source": [
    "airbnbDF.select('price',log(col('price')).alias('logprice')).show(5)"
   ]
  },
  {
   "cell_type": "code",
   "execution_count": 51,
   "id": "122863c4",
   "metadata": {},
   "outputs": [],
   "source": [
    "logPrice = airbnbDF.select(log(col('price')).alias('logprice'))"
   ]
  },
  {
   "cell_type": "code",
   "execution_count": 53,
   "id": "0a1ae11b",
   "metadata": {},
   "outputs": [],
   "source": [
    "pricelog  = logPrice.select('logprice').toPandas()"
   ]
  },
  {
   "cell_type": "code",
   "execution_count": 56,
   "id": "df69d996",
   "metadata": {},
   "outputs": [
    {
     "data": {
      "text/plain": [
       "<AxesSubplot:xlabel='logprice', ylabel='Count'>"
      ]
     },
     "execution_count": 56,
     "metadata": {},
     "output_type": "execute_result"
    },
    {
     "data": {
      "image/png": "[encoded data removed]",
      "text/plain": [
       "<Figure size 720x432 with 1 Axes>"
      ]
     },
     "metadata": {
      "needs_background": "light"
     },
     "output_type": "display_data"
    }
   ],
   "source": [
    "plt.figure(figsize=(10,6))\n",
    "plt.grid()\n",
    "sns.histplot(pricelog['logprice'],bins=100)"
   ]
  },
  {
   "cell_type": "code",
   "execution_count": 57,
   "id": "353b8d05",
   "metadata": {},
   "outputs": [],
   "source": [
    "import math"
   ]
  },
  {
   "cell_type": "code",
   "execution_count": 58,
   "id": "2114f0c9",
   "metadata": {},
   "outputs": [],
   "source": [
    "price['logprice'] = price['price'].apply(math.log)"
   ]
  },
  {
   "cell_type": "code",
   "execution_count": 60,
   "id": "b2f78aa8",
   "metadata": {},
   "outputs": [
    {
     "data": {
      "text/plain": [
       "<AxesSubplot:>"
      ]
     },
     "execution_count": 60,
     "metadata": {},
     "output_type": "execute_result"
    },
    {
     "data": {
      "image/png": "[encoded data removed]",
      "text/plain": [
       "<Figure size 720x432 with 1 Axes>"
      ]
     },
     "metadata": {
      "needs_background": "light"
     },
     "output_type": "display_data"
    }
   ],
   "source": [
    "plt.figure(figsize=(10,6))\n",
    "price['logprice'].hist(bins=100) "
   ]
  },
  {
   "cell_type": "markdown",
   "id": "ceff4ace",
   "metadata": {},
   "source": [
    "## Exercise:\n",
    "### Try building a model to predict price on the log scale, then exponentiate the prediction to get it out of log scale and evaluate your model."
   ]
  },
  {
   "cell_type": "code",
   "execution_count": null,
   "id": "6923f645",
   "metadata": {},
   "outputs": [],
   "source": []
  },
  {
   "cell_type": "code",
   "execution_count": null,
   "id": "4b61823d",
   "metadata": {},
   "outputs": [],
   "source": []
  },
  {
   "cell_type": "code",
   "execution_count": null,
   "id": "92f4ff72",
   "metadata": {},
   "outputs": [],
   "source": []
  },
  {
   "cell_type": "code",
   "execution_count": null,
   "id": "739f987a",
   "metadata": {},
   "outputs": [],
   "source": []
  },
  {
   "cell_type": "code",
   "execution_count": null,
   "id": "cbcf8241",
   "metadata": {},
   "outputs": [],
   "source": []
  },
  {
   "cell_type": "code",
   "execution_count": null,
   "id": "5965c101",
   "metadata": {},
   "outputs": [],
   "source": []
  },
  {
   "cell_type": "markdown",
   "id": "a178e124",
   "metadata": {},
   "source": [
    "### Saving and Loading Models"
   ]
  },
  {
   "cell_type": "code",
   "execution_count": 61,
   "id": "cc0ca663",
   "metadata": {},
   "outputs": [],
   "source": [
    "# Saving the model\n",
    "pipelinePath = \"lr-pipeline-model\"\n",
    "pipelineModel.write().overwrite().save(pipelinePath)"
   ]
  },
  {
   "cell_type": "code",
   "execution_count": 62,
   "id": "f426d184",
   "metadata": {},
   "outputs": [
    {
     "name": "stderr",
     "output_type": "stream",
     "text": [
      "                                                                                \r"
     ]
    }
   ],
   "source": [
    "# Loading the model\n",
    "from pyspark.ml import PipelineModel\n",
    "savedPipelineModel = PipelineModel.load(pipelinePath)"
   ]
  },
  {
   "cell_type": "code",
   "execution_count": null,
   "id": "a7d5ea1e",
   "metadata": {},
   "outputs": [],
   "source": []
  }
 ],
 "metadata": {
  "kernelspec": {
   "display_name": "Python 3 (ipykernel)",
   "language": "python",
   "name": "python3"
  },
  "language_info": {
   "codemirror_mode": {
    "name": "ipython",
    "version": 3
   },
   "file_extension": ".py",
   "mimetype": "text/x-python",
   "name": "python",
   "nbconvert_exporter": "python",
   "pygments_lexer": "ipython3",
   "version": "3.9.12"
  }
 },
 "nbformat": 4,
 "nbformat_minor": 5
}
