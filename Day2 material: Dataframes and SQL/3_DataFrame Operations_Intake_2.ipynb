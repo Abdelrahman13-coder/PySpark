{
 "cells": [
  {
   "cell_type": "code",
   "execution_count": 1,
   "id": "cb0e3402",
   "metadata": {},
   "outputs": [],
   "source": [
    "import findspark\n",
    "findspark.init()"
   ]
  },
  {
   "cell_type": "code",
   "execution_count": 2,
   "id": "1702abb9",
   "metadata": {},
   "outputs": [],
   "source": [
    "from pyspark.sql import SparkSession"
   ]
  },
  {
   "cell_type": "code",
   "execution_count": 4,
   "id": "dfcb8fe2",
   "metadata": {},
   "outputs": [],
   "source": [
    "spark = SparkSession.builder.getOrCreate()"
   ]
  },
  {
   "cell_type": "code",
   "execution_count": 9,
   "id": "7a45ff2f",
   "metadata": {},
   "outputs": [],
   "source": [
    "\"\"\"If you don’t want to specify the schema, Spark can infer schema\n",
    "from a sample at a lesser cost. For example, you can use the\n",
    "samplingRatio option:\n",
    "\"\"\"\n",
    "\n",
    "sampleDF  = spark.read.csv(\"sf-fire-calls.csv\"\n",
    "                          ,samplingRatio=0.001\n",
    "                          , header=True)"
   ]
  },
  {
   "cell_type": "code",
   "execution_count": 10,
   "id": "83002cb7",
   "metadata": {},
   "outputs": [
    {
     "name": "stdout",
     "output_type": "stream",
     "text": [
      "root\n",
      " |-- CallNumber: string (nullable = true)\n",
      " |-- UnitID: string (nullable = true)\n",
      " |-- IncidentNumber: string (nullable = true)\n",
      " |-- CallType: string (nullable = true)\n",
      " |-- CallDate: string (nullable = true)\n",
      " |-- WatchDate: string (nullable = true)\n",
      " |-- CallFinalDisposition: string (nullable = true)\n",
      " |-- AvailableDtTm: string (nullable = true)\n",
      " |-- Address: string (nullable = true)\n",
      " |-- City: string (nullable = true)\n",
      " |-- Zipcode: string (nullable = true)\n",
      " |-- Battalion: string (nullable = true)\n",
      " |-- StationArea: string (nullable = true)\n",
      " |-- Box: string (nullable = true)\n",
      " |-- OriginalPriority: string (nullable = true)\n",
      " |-- Priority: string (nullable = true)\n",
      " |-- FinalPriority: string (nullable = true)\n",
      " |-- ALSUnit: string (nullable = true)\n",
      " |-- CallTypeGroup: string (nullable = true)\n",
      " |-- NumAlarms: string (nullable = true)\n",
      " |-- UnitType: string (nullable = true)\n",
      " |-- UnitSequenceInCallDispatch: string (nullable = true)\n",
      " |-- FirePreventionDistrict: string (nullable = true)\n",
      " |-- SupervisorDistrict: string (nullable = true)\n",
      " |-- Neighborhood: string (nullable = true)\n",
      " |-- Location: string (nullable = true)\n",
      " |-- RowID: string (nullable = true)\n",
      " |-- Delay: string (nullable = true)\n",
      "\n"
     ]
    }
   ],
   "source": [
    "sampleDF.printSchema()"
   ]
  },
  {
   "cell_type": "code",
   "execution_count": 11,
   "id": "33ac448c",
   "metadata": {},
   "outputs": [],
   "source": [
    "fire_df = spark.read.csv('sf-fire-calls.csv', header=True, schema=sampleDF.schema)"
   ]
  },
  {
   "cell_type": "code",
   "execution_count": 12,
   "id": "23e42ca2",
   "metadata": {},
   "outputs": [
    {
     "name": "stdout",
     "output_type": "stream",
     "text": [
      "root\n",
      " |-- CallNumber: string (nullable = true)\n",
      " |-- UnitID: string (nullable = true)\n",
      " |-- IncidentNumber: string (nullable = true)\n",
      " |-- CallType: string (nullable = true)\n",
      " |-- CallDate: string (nullable = true)\n",
      " |-- WatchDate: string (nullable = true)\n",
      " |-- CallFinalDisposition: string (nullable = true)\n",
      " |-- AvailableDtTm: string (nullable = true)\n",
      " |-- Address: string (nullable = true)\n",
      " |-- City: string (nullable = true)\n",
      " |-- Zipcode: string (nullable = true)\n",
      " |-- Battalion: string (nullable = true)\n",
      " |-- StationArea: string (nullable = true)\n",
      " |-- Box: string (nullable = true)\n",
      " |-- OriginalPriority: string (nullable = true)\n",
      " |-- Priority: string (nullable = true)\n",
      " |-- FinalPriority: string (nullable = true)\n",
      " |-- ALSUnit: string (nullable = true)\n",
      " |-- CallTypeGroup: string (nullable = true)\n",
      " |-- NumAlarms: string (nullable = true)\n",
      " |-- UnitType: string (nullable = true)\n",
      " |-- UnitSequenceInCallDispatch: string (nullable = true)\n",
      " |-- FirePreventionDistrict: string (nullable = true)\n",
      " |-- SupervisorDistrict: string (nullable = true)\n",
      " |-- Neighborhood: string (nullable = true)\n",
      " |-- Location: string (nullable = true)\n",
      " |-- RowID: string (nullable = true)\n",
      " |-- Delay: string (nullable = true)\n",
      "\n"
     ]
    }
   ],
   "source": [
    "fire_df.printSchema()"
   ]
  },
  {
   "cell_type": "markdown",
   "id": "0089eb67",
   "metadata": {},
   "source": [
    "Now that you have a distributed DataFrame composed of San Francisco Fire Department calls in memory, the first thing you as a developer will want to do is examine\n",
    "your data to see what the columns look like. Are they of the correct types? Do any of\n",
    "them need to be converted to different types? Do they have null values?"
   ]
  },
  {
   "cell_type": "markdown",
   "id": "17bb7ce0",
   "metadata": {},
   "source": [
    "### Projections and filters:\n",
    "A <i>projection</i> in relational parlance is a way to return only the\n",
    "rows matching a certain relational condition by using filters. In Spark, projections are\n",
    "done with the <b>select()</b> method, while filters can be expressed using the <b>filter()</b> or\n",
    "<b>where()</b> method. We can use this technique to examine specific aspects of our SF Fire\n",
    "Department data set:"
   ]
  },
  {
   "cell_type": "code",
   "execution_count": 13,
   "id": "89b149b2",
   "metadata": {},
   "outputs": [],
   "source": [
    "import pyspark.sql.functions as fn"
   ]
  },
  {
   "cell_type": "code",
   "execution_count": 14,
   "id": "9802bd93",
   "metadata": {},
   "outputs": [],
   "source": [
    "from pyspark.sql.functions import *"
   ]
  },
  {
   "cell_type": "code",
   "execution_count": 15,
   "id": "75157a6b",
   "metadata": {},
   "outputs": [
    {
     "name": "stderr",
     "output_type": "stream",
     "text": [
      "\r",
      "[Stage 2:>                                                          (0 + 1) / 1]\r",
      "\r",
      "                                                                                \r"
     ]
    },
    {
     "name": "stdout",
     "output_type": "stream",
     "text": [
      "+--------------+----------------------+--------------+\n",
      "|IncidentNumber|AvailableDtTm         |CallType      |\n",
      "+--------------+----------------------+--------------+\n",
      "|2003235       |01/11/2002 01:51:44 AM|Structure Fire|\n",
      "|2003250       |01/11/2002 04:16:46 AM|Vehicle Fire  |\n",
      "|2003259       |01/11/2002 06:01:58 AM|Alarms        |\n",
      "|2003279       |01/11/2002 08:03:26 AM|Structure Fire|\n",
      "|2003301       |01/11/2002 09:46:44 AM|Alarms        |\n",
      "+--------------+----------------------+--------------+\n",
      "only showing top 5 rows\n",
      "\n"
     ]
    }
   ],
   "source": [
    "few_fire_df = (fire_df\n",
    "              .select(\"IncidentNumber\", \"AvailableDtTm\", \"CallType\")\n",
    "              .where(col(\"CallType\") != \"Medical Incident\"))\n",
    "\n",
    "few_fire_df.show(5,truncate=False)"
   ]
  },
  {
   "cell_type": "code",
   "execution_count": 17,
   "id": "8df4477c",
   "metadata": {},
   "outputs": [
    {
     "name": "stdout",
     "output_type": "stream",
     "text": [
      "+--------------+----------------------+--------------+\n",
      "|IncidentNumber|AvailableDtTm         |CallType      |\n",
      "+--------------+----------------------+--------------+\n",
      "|2003235       |01/11/2002 01:51:44 AM|Structure Fire|\n",
      "|2003250       |01/11/2002 04:16:46 AM|Vehicle Fire  |\n",
      "|2003259       |01/11/2002 06:01:58 AM|Alarms        |\n",
      "|2003279       |01/11/2002 08:03:26 AM|Structure Fire|\n",
      "|2003301       |01/11/2002 09:46:44 AM|Alarms        |\n",
      "+--------------+----------------------+--------------+\n",
      "only showing top 5 rows\n",
      "\n"
     ]
    }
   ],
   "source": [
    "ew_fire_df = (fire_df\n",
    "              .select(\"IncidentNumber\", \"AvailableDtTm\", \"CallType\")\n",
    "              .where(\"CallType != 'Medical Incident'\"))\n",
    "\n",
    "few_fire_df.show(5,truncate=False)"
   ]
  },
  {
   "cell_type": "code",
   "execution_count": 18,
   "id": "262620b4",
   "metadata": {
    "scrolled": true
   },
   "outputs": [
    {
     "name": "stdout",
     "output_type": "stream",
     "text": [
      "+--------------+----------------------+--------------+\n",
      "|IncidentNumber|AvailableDtTm         |CallType      |\n",
      "+--------------+----------------------+--------------+\n",
      "|2003235       |01/11/2002 01:51:44 AM|Structure Fire|\n",
      "|2003250       |01/11/2002 04:16:46 AM|Vehicle Fire  |\n",
      "|2003259       |01/11/2002 06:01:58 AM|Alarms        |\n",
      "|2003279       |01/11/2002 08:03:26 AM|Structure Fire|\n",
      "|2003301       |01/11/2002 09:46:44 AM|Alarms        |\n",
      "+--------------+----------------------+--------------+\n",
      "only showing top 5 rows\n",
      "\n"
     ]
    }
   ],
   "source": [
    "(fire_df\n",
    " .select(\"IncidentNumber\", \"AvailableDtTm\", \"CallType\")\n",
    " .where(fire_df[\"CallType\"] != \"Medical Incident\")).show(5, truncate=False)"
   ]
  },
  {
   "cell_type": "code",
   "execution_count": 19,
   "id": "8028cda5",
   "metadata": {
    "scrolled": true
   },
   "outputs": [
    {
     "name": "stdout",
     "output_type": "stream",
     "text": [
      "+----------------+\n",
      "|CallType        |\n",
      "+----------------+\n",
      "|Structure Fire  |\n",
      "|Medical Incident|\n",
      "|Medical Incident|\n",
      "|Vehicle Fire    |\n",
      "|Alarms          |\n",
      "|Structure Fire  |\n",
      "|Alarms          |\n",
      "|Alarms          |\n",
      "|Medical Incident|\n",
      "|Medical Incident|\n",
      "+----------------+\n",
      "only showing top 10 rows\n",
      "\n"
     ]
    }
   ],
   "source": [
    "fire_df.select('CallType')\\\n",
    ".where(col('CallType').isNotNull())\\\n",
    ".show(10,truncate=False)"
   ]
  },
  {
   "cell_type": "markdown",
   "id": "c2e28d13",
   "metadata": {},
   "source": [
    "We can list the distinct call types in the data set using these queries:"
   ]
  },
  {
   "cell_type": "code",
   "execution_count": 37,
   "id": "c0958fd8",
   "metadata": {},
   "outputs": [
    {
     "name": "stdout",
     "output_type": "stream",
     "text": [
      "+--------------------------------------------+\n",
      "|CallType                                    |\n",
      "+--------------------------------------------+\n",
      "|Elevator / Escalator Rescue                 |\n",
      "|Marine Fire                                 |\n",
      "|Aircraft Emergency                          |\n",
      "|Confined Space / Structure Collapse         |\n",
      "|Administrative                              |\n",
      "|Alarms                                      |\n",
      "|Odor (Strange / Unknown)                    |\n",
      "|Citizen Assist / Service Call               |\n",
      "|HazMat                                      |\n",
      "|Watercraft in Distress                      |\n",
      "|Explosion                                   |\n",
      "|Oil Spill                                   |\n",
      "|Vehicle Fire                                |\n",
      "|Suspicious Package                          |\n",
      "|Extrication / Entrapped (Machinery, Vehicle)|\n",
      "|Other                                       |\n",
      "|Outside Fire                                |\n",
      "|Traffic Collision                           |\n",
      "|Assist Police                               |\n",
      "|Gas Leak (Natural and LP Gases)             |\n",
      "+--------------------------------------------+\n",
      "only showing top 20 rows\n",
      "\n"
     ]
    },
    {
     "name": "stderr",
     "output_type": "stream",
     "text": [
      "\r",
      "[Stage 78:>                                                         (0 + 2) / 2]\r",
      "\r",
      "                                                                                \r"
     ]
    }
   ],
   "source": [
    "fire_df.select('CallType')\\\n",
    ".where(col('CallType').isNotNull())\\\n",
    ".distinct()\\\n",
    ".show(20,truncate=False)"
   ]
  },
  {
   "cell_type": "code",
   "execution_count": 36,
   "id": "6c8cfa6e",
   "metadata": {},
   "outputs": [
    {
     "name": "stdout",
     "output_type": "stream",
     "text": [
      "+--------------------------------------------+\n",
      "|CallType                                    |\n",
      "+--------------------------------------------+\n",
      "|Administrative                              |\n",
      "|Aircraft Emergency                          |\n",
      "|Alarms                                      |\n",
      "|Assist Police                               |\n",
      "|Citizen Assist / Service Call               |\n",
      "|Confined Space / Structure Collapse         |\n",
      "|Electrical Hazard                           |\n",
      "|Elevator / Escalator Rescue                 |\n",
      "|Explosion                                   |\n",
      "|Extrication / Entrapped (Machinery, Vehicle)|\n",
      "|Fuel Spill                                  |\n",
      "|Gas Leak (Natural and LP Gases)             |\n",
      "|HazMat                                      |\n",
      "|High Angle Rescue                           |\n",
      "|Industrial Accidents                        |\n",
      "|Marine Fire                                 |\n",
      "|Medical Incident                            |\n",
      "|Mutual Aid / Assist Outside Agency          |\n",
      "|Odor (Strange / Unknown)                    |\n",
      "|Oil Spill                                   |\n",
      "|Other                                       |\n",
      "|Outside Fire                                |\n",
      "|Smoke Investigation (Outside)               |\n",
      "|Structure Fire                              |\n",
      "|Suspicious Package                          |\n",
      "|Traffic Collision                           |\n",
      "|Train / Rail Incident                       |\n",
      "|Vehicle Fire                                |\n",
      "|Water Rescue                                |\n",
      "|Watercraft in Distress                      |\n",
      "+--------------------------------------------+\n",
      "\n"
     ]
    },
    {
     "name": "stderr",
     "output_type": "stream",
     "text": [
      "\r",
      "[Stage 75:>                                                         (0 + 2) / 2]\r",
      "\r",
      "                                                                                \r"
     ]
    }
   ],
   "source": [
    "fire_df.select('CallType')\\\n",
    ".where(col('CallType').isNotNull())\\\n",
    ".distinct()\\\n",
    ".sort('CallType')\\\n",
    ".show(30,truncate=False)"
   ]
  },
  {
   "cell_type": "markdown",
   "id": "72d78cf4",
   "metadata": {},
   "source": [
    "What if we want to know how many distinct <b>CallTypes</b> were recorded as the causes\n",
    "of the fire calls? These simple and expressive queries do the job:"
   ]
  },
  {
   "cell_type": "code",
   "execution_count": 33,
   "id": "e5507d05",
   "metadata": {},
   "outputs": [
    {
     "data": {
      "text/plain": [
       "30"
      ]
     },
     "execution_count": 33,
     "metadata": {},
     "output_type": "execute_result"
    }
   ],
   "source": [
    "fire_df.select('CallType')\\\n",
    ".where(col('CallType').isNotNull())\\\n",
    ".distinct()\\\n",
    ".count()"
   ]
  },
  {
   "cell_type": "code",
   "execution_count": 38,
   "id": "f41d8c85",
   "metadata": {},
   "outputs": [
    {
     "name": "stderr",
     "output_type": "stream",
     "text": [
      "\r",
      "[Stage 81:>                                                         (0 + 2) / 2]\r",
      "\r",
      "[Stage 81:=============================>                            (1 + 1) / 2]\r"
     ]
    },
    {
     "name": "stdout",
     "output_type": "stream",
     "text": [
      "+-----------------+\n",
      "|DistinctCallTypes|\n",
      "+-----------------+\n",
      "|               30|\n",
      "+-----------------+\n",
      "\n"
     ]
    },
    {
     "name": "stderr",
     "output_type": "stream",
     "text": [
      "\r",
      "                                                                                \r"
     ]
    }
   ],
   "source": [
    "fire_df.select('CallType')\\\n",
    ".where(col('CallType').isNotNull())\\\n",
    ".agg(fn.countDistinct('CallType').alias('DistinctCallTypes')).show()"
   ]
  },
  {
   "cell_type": "markdown",
   "id": "8948660d",
   "metadata": {},
   "source": [
    "### Renaming, adding, and dropping columns:"
   ]
  },
  {
   "cell_type": "markdown",
   "id": "e716b42d",
   "metadata": {},
   "source": [
    "Rename columns with the <b>withColumnRenamed()</b>\n",
    "method. For instance, let’s change the name of our <b>Delay</b> column to <b>ResponseDelayedinMins</b> and take a look at the response times that were longer than five minutes:"
   ]
  },
  {
   "cell_type": "code",
   "execution_count": 39,
   "id": "a1b22bc4",
   "metadata": {},
   "outputs": [],
   "source": [
    "new_fire_df = fire_df.withColumnRenamed('Delay',\"ResponseDelayedMins\")"
   ]
  },
  {
   "cell_type": "code",
   "execution_count": 40,
   "id": "f4b99aac",
   "metadata": {},
   "outputs": [
    {
     "name": "stdout",
     "output_type": "stream",
     "text": [
      "root\n",
      " |-- CallNumber: string (nullable = true)\n",
      " |-- UnitID: string (nullable = true)\n",
      " |-- IncidentNumber: string (nullable = true)\n",
      " |-- CallType: string (nullable = true)\n",
      " |-- CallDate: string (nullable = true)\n",
      " |-- WatchDate: string (nullable = true)\n",
      " |-- CallFinalDisposition: string (nullable = true)\n",
      " |-- AvailableDtTm: string (nullable = true)\n",
      " |-- Address: string (nullable = true)\n",
      " |-- City: string (nullable = true)\n",
      " |-- Zipcode: string (nullable = true)\n",
      " |-- Battalion: string (nullable = true)\n",
      " |-- StationArea: string (nullable = true)\n",
      " |-- Box: string (nullable = true)\n",
      " |-- OriginalPriority: string (nullable = true)\n",
      " |-- Priority: string (nullable = true)\n",
      " |-- FinalPriority: string (nullable = true)\n",
      " |-- ALSUnit: string (nullable = true)\n",
      " |-- CallTypeGroup: string (nullable = true)\n",
      " |-- NumAlarms: string (nullable = true)\n",
      " |-- UnitType: string (nullable = true)\n",
      " |-- UnitSequenceInCallDispatch: string (nullable = true)\n",
      " |-- FirePreventionDistrict: string (nullable = true)\n",
      " |-- SupervisorDistrict: string (nullable = true)\n",
      " |-- Neighborhood: string (nullable = true)\n",
      " |-- Location: string (nullable = true)\n",
      " |-- RowID: string (nullable = true)\n",
      " |-- ResponseDelayedMins: string (nullable = true)\n",
      "\n"
     ]
    }
   ],
   "source": [
    "new_fire_df.printSchema()"
   ]
  },
  {
   "cell_type": "markdown",
   "id": "a2524533",
   "metadata": {},
   "source": [
    "<b><font color='red'>Note:</font></b> Because DataFrame transformations are immutable, when we\n",
    "rename a column using <b>withColumnRenamed()</b> we get a new Data‐\n",
    "Frame while retaining the original with the old column name."
   ]
  },
  {
   "cell_type": "code",
   "execution_count": 41,
   "id": "f391234c",
   "metadata": {},
   "outputs": [
    {
     "name": "stdout",
     "output_type": "stream",
     "text": [
      "root\n",
      " |-- CallNumber: string (nullable = true)\n",
      " |-- UnitID: string (nullable = true)\n",
      " |-- IncidentNumber: string (nullable = true)\n",
      " |-- CallType: string (nullable = true)\n",
      " |-- CallDate: string (nullable = true)\n",
      " |-- WatchDate: string (nullable = true)\n",
      " |-- CallFinalDisposition: string (nullable = true)\n",
      " |-- AvailableDtTm: string (nullable = true)\n",
      " |-- Address: string (nullable = true)\n",
      " |-- City: string (nullable = true)\n",
      " |-- Zipcode: string (nullable = true)\n",
      " |-- Battalion: string (nullable = true)\n",
      " |-- StationArea: string (nullable = true)\n",
      " |-- Box: string (nullable = true)\n",
      " |-- OriginalPriority: string (nullable = true)\n",
      " |-- Priority: string (nullable = true)\n",
      " |-- FinalPriority: string (nullable = true)\n",
      " |-- ALSUnit: string (nullable = true)\n",
      " |-- CallTypeGroup: string (nullable = true)\n",
      " |-- NumAlarms: string (nullable = true)\n",
      " |-- UnitType: string (nullable = true)\n",
      " |-- UnitSequenceInCallDispatch: string (nullable = true)\n",
      " |-- FirePreventionDistrict: string (nullable = true)\n",
      " |-- SupervisorDistrict: string (nullable = true)\n",
      " |-- Neighborhood: string (nullable = true)\n",
      " |-- Location: string (nullable = true)\n",
      " |-- RowID: string (nullable = true)\n",
      " |-- Delay: string (nullable = true)\n",
      "\n"
     ]
    }
   ],
   "source": [
    "fire_df.printSchema()"
   ]
  },
  {
   "cell_type": "code",
   "execution_count": 42,
   "id": "f3d22bc5",
   "metadata": {},
   "outputs": [
    {
     "name": "stdout",
     "output_type": "stream",
     "text": [
      "+-------------------+\n",
      "|ResponseDelayedMins|\n",
      "+-------------------+\n",
      "|6.25               |\n",
      "|7.25               |\n",
      "|11.916667          |\n",
      "|8.633333           |\n",
      "|95.28333           |\n",
      "+-------------------+\n",
      "only showing top 5 rows\n",
      "\n"
     ]
    }
   ],
   "source": [
    "(new_fire_df.select('ResponseDelayedMins').where(col('ResponseDelayedMins')>5)\n",
    ".show(5,False))"
   ]
  },
  {
   "cell_type": "code",
   "execution_count": 44,
   "id": "c87ccf51",
   "metadata": {},
   "outputs": [
    {
     "name": "stdout",
     "output_type": "stream",
     "text": [
      "+-------------------+\n",
      "|ResponseDelayedMins|\n",
      "+-------------------+\n",
      "|6.25               |\n",
      "|7.25               |\n",
      "|11.916667          |\n",
      "|8.633333           |\n",
      "|95.28333           |\n",
      "+-------------------+\n",
      "only showing top 5 rows\n",
      "\n"
     ]
    }
   ],
   "source": [
    "(new_fire_df.select('ResponseDelayedMins').where('ResponseDelayedMins>5')\n",
    ".show(5,False))"
   ]
  },
  {
   "cell_type": "markdown",
   "id": "ce2fb312",
   "metadata": {},
   "source": [
    "<b>--</b> Modifying the contents of a column or its type are common operations during data exploration. In some cases the data is raw or dirty, or its types are not amenable to being supplied as arguments to relational operators.<br>\n",
    "<b>--</b> For example, in our <b>SF Fire</b>\n",
    "Department data set, the columns <b>CallDate , WatchDate , and AlarmDtTm</b> are strings\n",
    "rather than either <b>Unix timestamps</b> or <b>SQL dates</b>, both of which Spark supports and\n",
    "can easily manipulate during transformations or actions (e.g., during a date- or time-\n",
    "based analysis of the data)."
   ]
  },
  {
   "cell_type": "markdown",
   "id": "449288fc",
   "metadata": {},
   "source": [
    "### Steps:\n",
    "<ol>\n",
    "    <li>Convert the existing column’s data type from string to a Spark-supported timestamp.</li>\n",
    "    <li>Use the new format specified in the format string <b>\"MM/dd/yyyy\"</b> or <b>\"MM/dd/yyyy hh:mm:ss a\"</b> where appropriate.</li>\n",
    "    <li>After converting to the new data type, drop() the old column and append the new one specified in the first argument to the <b>withColumn()</b> method.</li>\n",
    "    <li>Assign the new modified DataFrame to <b>fire_ts_df</b></li>\n",
    "</ol>"
   ]
  },
  {
   "cell_type": "code",
   "execution_count": 46,
   "id": "31069985",
   "metadata": {},
   "outputs": [],
   "source": [
    "fire_ts_df = new_fire_df.withColumn('IncidentDate',fn.to_timestamp(col('CallDate'),'MM/dd/yyyy'))\\\n",
    "                        .drop('CallDate')\\\n",
    "                        .withColumn('OnWatchDate',to_timestamp(col('WatchDate'),'MM/dd/yyyy'))\\\n",
    "                        .drop('WatchDate')\\\n",
    "                        .withColumn('AvailableDtTs',to_timestamp(col('AvailableDtTm'),'MM/dd/yyyy hh:mm:ss a'))\\\n",
    "                        .drop('AvailableDtTm')"
   ]
  },
  {
   "cell_type": "code",
   "execution_count": 47,
   "id": "f3d6c747",
   "metadata": {},
   "outputs": [
    {
     "name": "stdout",
     "output_type": "stream",
     "text": [
      "root\n",
      " |-- CallNumber: string (nullable = true)\n",
      " |-- UnitID: string (nullable = true)\n",
      " |-- IncidentNumber: string (nullable = true)\n",
      " |-- CallType: string (nullable = true)\n",
      " |-- CallFinalDisposition: string (nullable = true)\n",
      " |-- Address: string (nullable = true)\n",
      " |-- City: string (nullable = true)\n",
      " |-- Zipcode: string (nullable = true)\n",
      " |-- Battalion: string (nullable = true)\n",
      " |-- StationArea: string (nullable = true)\n",
      " |-- Box: string (nullable = true)\n",
      " |-- OriginalPriority: string (nullable = true)\n",
      " |-- Priority: string (nullable = true)\n",
      " |-- FinalPriority: string (nullable = true)\n",
      " |-- ALSUnit: string (nullable = true)\n",
      " |-- CallTypeGroup: string (nullable = true)\n",
      " |-- NumAlarms: string (nullable = true)\n",
      " |-- UnitType: string (nullable = true)\n",
      " |-- UnitSequenceInCallDispatch: string (nullable = true)\n",
      " |-- FirePreventionDistrict: string (nullable = true)\n",
      " |-- SupervisorDistrict: string (nullable = true)\n",
      " |-- Neighborhood: string (nullable = true)\n",
      " |-- Location: string (nullable = true)\n",
      " |-- RowID: string (nullable = true)\n",
      " |-- ResponseDelayedMins: string (nullable = true)\n",
      " |-- IncidentDate: timestamp (nullable = true)\n",
      " |-- OnWatchDate: timestamp (nullable = true)\n",
      " |-- AvailableDtTs: timestamp (nullable = true)\n",
      "\n"
     ]
    }
   ],
   "source": [
    "fire_ts_df.printSchema()"
   ]
  },
  {
   "cell_type": "code",
   "execution_count": 49,
   "id": "961ea5cf",
   "metadata": {},
   "outputs": [],
   "source": [
    "ire_ts_df_2 = new_fire_df.withColumn('CallDate',fn.to_timestamp(col('CallDate'),'MM/dd/yyyy'))\\\n",
    "                        .withColumn('WatchDate',to_timestamp(col('WatchDate'),'MM/dd/yyyy'))\\\n",
    "                        .withColumn('AvailableDtTm',to_timestamp(col('AvailableDtTm'),'MM/dd/yyyy hh:mm:ss a'))"
   ]
  },
  {
   "cell_type": "code",
   "execution_count": 50,
   "id": "0dd4dabc",
   "metadata": {},
   "outputs": [
    {
     "name": "stdout",
     "output_type": "stream",
     "text": [
      "root\n",
      " |-- CallNumber: string (nullable = true)\n",
      " |-- UnitID: string (nullable = true)\n",
      " |-- IncidentNumber: string (nullable = true)\n",
      " |-- CallType: string (nullable = true)\n",
      " |-- CallDate: string (nullable = true)\n",
      " |-- WatchDate: string (nullable = true)\n",
      " |-- CallFinalDisposition: string (nullable = true)\n",
      " |-- AvailableDtTm: string (nullable = true)\n",
      " |-- Address: string (nullable = true)\n",
      " |-- City: string (nullable = true)\n",
      " |-- Zipcode: string (nullable = true)\n",
      " |-- Battalion: string (nullable = true)\n",
      " |-- StationArea: string (nullable = true)\n",
      " |-- Box: string (nullable = true)\n",
      " |-- OriginalPriority: string (nullable = true)\n",
      " |-- Priority: string (nullable = true)\n",
      " |-- FinalPriority: string (nullable = true)\n",
      " |-- ALSUnit: string (nullable = true)\n",
      " |-- CallTypeGroup: string (nullable = true)\n",
      " |-- NumAlarms: string (nullable = true)\n",
      " |-- UnitType: string (nullable = true)\n",
      " |-- UnitSequenceInCallDispatch: string (nullable = true)\n",
      " |-- FirePreventionDistrict: string (nullable = true)\n",
      " |-- SupervisorDistrict: string (nullable = true)\n",
      " |-- Neighborhood: string (nullable = true)\n",
      " |-- Location: string (nullable = true)\n",
      " |-- RowID: string (nullable = true)\n",
      " |-- ResponseDelayedMins: string (nullable = true)\n",
      "\n"
     ]
    }
   ],
   "source": [
    "new_fire_df.printSchema()"
   ]
  },
  {
   "cell_type": "code",
   "execution_count": 51,
   "id": "82d1c193",
   "metadata": {},
   "outputs": [
    {
     "name": "stdout",
     "output_type": "stream",
     "text": [
      "root\n",
      " |-- CallNumber: string (nullable = true)\n",
      " |-- UnitID: string (nullable = true)\n",
      " |-- IncidentNumber: string (nullable = true)\n",
      " |-- CallType: string (nullable = true)\n",
      " |-- CallDate: timestamp (nullable = true)\n",
      " |-- WatchDate: timestamp (nullable = true)\n",
      " |-- CallFinalDisposition: string (nullable = true)\n",
      " |-- AvailableDtTm: timestamp (nullable = true)\n",
      " |-- Address: string (nullable = true)\n",
      " |-- City: string (nullable = true)\n",
      " |-- Zipcode: string (nullable = true)\n",
      " |-- Battalion: string (nullable = true)\n",
      " |-- StationArea: string (nullable = true)\n",
      " |-- Box: string (nullable = true)\n",
      " |-- OriginalPriority: string (nullable = true)\n",
      " |-- Priority: string (nullable = true)\n",
      " |-- FinalPriority: string (nullable = true)\n",
      " |-- ALSUnit: string (nullable = true)\n",
      " |-- CallTypeGroup: string (nullable = true)\n",
      " |-- NumAlarms: string (nullable = true)\n",
      " |-- UnitType: string (nullable = true)\n",
      " |-- UnitSequenceInCallDispatch: string (nullable = true)\n",
      " |-- FirePreventionDistrict: string (nullable = true)\n",
      " |-- SupervisorDistrict: string (nullable = true)\n",
      " |-- Neighborhood: string (nullable = true)\n",
      " |-- Location: string (nullable = true)\n",
      " |-- RowID: string (nullable = true)\n",
      " |-- ResponseDelayedMins: string (nullable = true)\n",
      "\n"
     ]
    }
   ],
   "source": [
    "ire_ts_df_2.printSchema()"
   ]
  },
  {
   "cell_type": "code",
   "execution_count": 52,
   "id": "14e43f43",
   "metadata": {},
   "outputs": [
    {
     "name": "stdout",
     "output_type": "stream",
     "text": [
      "+-------------------+-------------------+-------------------+\n",
      "|IncidentDate       |OnWatchDate        |AvailableDtTs      |\n",
      "+-------------------+-------------------+-------------------+\n",
      "|2002-01-11 00:00:00|2002-01-10 00:00:00|2002-01-11 01:51:44|\n",
      "|2002-01-11 00:00:00|2002-01-10 00:00:00|2002-01-11 03:01:18|\n",
      "|2002-01-11 00:00:00|2002-01-10 00:00:00|2002-01-11 02:39:50|\n",
      "|2002-01-11 00:00:00|2002-01-10 00:00:00|2002-01-11 04:16:46|\n",
      "|2002-01-11 00:00:00|2002-01-10 00:00:00|2002-01-11 06:01:58|\n",
      "+-------------------+-------------------+-------------------+\n",
      "only showing top 5 rows\n",
      "\n"
     ]
    }
   ],
   "source": [
    "fire_ts_df.select(['IncidentDate','OnWatchDate','AvailableDtTs']).show(5,False)"
   ]
  },
  {
   "cell_type": "markdown",
   "id": "b3dd0df2",
   "metadata": {},
   "source": [
    "Now that we have modified the dates, we can query using functions from <b>spark.sql.functions</b> like <b>month() , year() , and day()</b> to explore our data further."
   ]
  },
  {
   "cell_type": "code",
   "execution_count": 53,
   "id": "e179e708",
   "metadata": {},
   "outputs": [
    {
     "name": "stdout",
     "output_type": "stream",
     "text": [
      "+------------------+\n",
      "|year(IncidentDate)|\n",
      "+------------------+\n",
      "|              2002|\n",
      "|              2002|\n",
      "|              2002|\n",
      "|              2002|\n",
      "|              2002|\n",
      "|              2002|\n",
      "|              2002|\n",
      "|              2002|\n",
      "|              2002|\n",
      "|              2002|\n",
      "|              2002|\n",
      "|              2002|\n",
      "|              2002|\n",
      "|              2002|\n",
      "|              2002|\n",
      "|              2002|\n",
      "|              2002|\n",
      "|              2002|\n",
      "|              2002|\n",
      "|              2002|\n",
      "+------------------+\n",
      "only showing top 20 rows\n",
      "\n"
     ]
    }
   ],
   "source": [
    "fire_ts_df.select(fn.year('IncidentDate')).show()"
   ]
  },
  {
   "cell_type": "code",
   "execution_count": 54,
   "id": "99406ef6",
   "metadata": {},
   "outputs": [
    {
     "name": "stderr",
     "output_type": "stream",
     "text": [
      "[Stage 91:=============================>                            (1 + 1) / 2]\r"
     ]
    },
    {
     "name": "stdout",
     "output_type": "stream",
     "text": [
      "+------------------+\n",
      "|year(IncidentDate)|\n",
      "+------------------+\n",
      "|              2003|\n",
      "|              2018|\n",
      "|              2015|\n",
      "|              2006|\n",
      "|              2013|\n",
      "|              2014|\n",
      "|              2012|\n",
      "|              2009|\n",
      "|              2016|\n",
      "|              2005|\n",
      "|              2010|\n",
      "|              2011|\n",
      "|              2008|\n",
      "|              2017|\n",
      "|              2002|\n",
      "|              2007|\n",
      "|              2004|\n",
      "|              2001|\n",
      "|              2000|\n",
      "+------------------+\n",
      "\n"
     ]
    },
    {
     "name": "stderr",
     "output_type": "stream",
     "text": [
      "\r",
      "                                                                                \r"
     ]
    }
   ],
   "source": [
    "fire_ts_df.select(fn.year('IncidentDate'))\\\n",
    ".distinct()\\\n",
    ".show()"
   ]
  },
  {
   "cell_type": "code",
   "execution_count": 56,
   "id": "a4d79ec0",
   "metadata": {},
   "outputs": [
    {
     "name": "stderr",
     "output_type": "stream",
     "text": [
      "\r",
      "[Stage 94:>                                                         (0 + 2) / 2]\r"
     ]
    },
    {
     "name": "stdout",
     "output_type": "stream",
     "text": [
      "+------------------+\n",
      "|year(IncidentDate)|\n",
      "+------------------+\n",
      "|              2000|\n",
      "|              2001|\n",
      "|              2002|\n",
      "|              2003|\n",
      "|              2004|\n",
      "|              2005|\n",
      "|              2006|\n",
      "|              2007|\n",
      "|              2008|\n",
      "|              2009|\n",
      "|              2010|\n",
      "|              2011|\n",
      "|              2012|\n",
      "|              2013|\n",
      "|              2014|\n",
      "|              2015|\n",
      "|              2016|\n",
      "|              2017|\n",
      "|              2018|\n",
      "+------------------+\n",
      "\n"
     ]
    },
    {
     "name": "stderr",
     "output_type": "stream",
     "text": [
      "\r",
      "                                                                                \r"
     ]
    }
   ],
   "source": [
    "fire_ts_df.select(fn.year('IncidentDate'))\\\n",
    ".distinct()\\\n",
    ".orderBy(fn.year('IncidentDate'))\\\n",
    ".show()"
   ]
  },
  {
   "cell_type": "code",
   "execution_count": 58,
   "id": "f6cf8d55",
   "metadata": {
    "scrolled": false
   },
   "outputs": [
    {
     "name": "stderr",
     "output_type": "stream",
     "text": [
      "\r",
      "[Stage 100:>                                                        (0 + 2) / 2]\r"
     ]
    },
    {
     "name": "stdout",
     "output_type": "stream",
     "text": [
      "+------------+\n",
      "|IncidentYear|\n",
      "+------------+\n",
      "|        2000|\n",
      "|        2001|\n",
      "|        2002|\n",
      "|        2003|\n",
      "|        2004|\n",
      "|        2005|\n",
      "|        2006|\n",
      "|        2007|\n",
      "|        2008|\n",
      "|        2009|\n",
      "|        2010|\n",
      "|        2011|\n",
      "|        2012|\n",
      "|        2013|\n",
      "|        2014|\n",
      "|        2015|\n",
      "|        2016|\n",
      "|        2017|\n",
      "|        2018|\n",
      "+------------+\n",
      "\n"
     ]
    },
    {
     "name": "stderr",
     "output_type": "stream",
     "text": [
      "\r",
      "                                                                                \r"
     ]
    }
   ],
   "source": [
    "fire_ts_df.select(fn.year('IncidentDate').alias('IncidentYear'))\\\n",
    ".distinct()\\\n",
    ".orderBy('IncidentYear')\\\n",
    ".show()"
   ]
  },
  {
   "cell_type": "markdown",
   "id": "591c1d58",
   "metadata": {},
   "source": [
    "So far, we have explored a number of common data operations: reading and writing DataFrames; defining a schema and using it when reading in a DataFrame; projecting and filtering selected columns from an existing DataFrame; and modifying, renaming, and dropping columns."
   ]
  },
  {
   "cell_type": "markdown",
   "id": "9d153243",
   "metadata": {},
   "source": [
    "## Aggregations."
   ]
  },
  {
   "cell_type": "markdown",
   "id": "03e8f7a4",
   "metadata": {},
   "source": [
    "### What were the most common types of fire calls? "
   ]
  },
  {
   "cell_type": "code",
   "execution_count": 59,
   "id": "0f66d69f",
   "metadata": {},
   "outputs": [
    {
     "name": "stderr",
     "output_type": "stream",
     "text": [
      "[Stage 103:============================>                            (1 + 1) / 2]\r"
     ]
    },
    {
     "name": "stdout",
     "output_type": "stream",
     "text": [
      "+-------------------------------+------+\n",
      "|CallType                       |count |\n",
      "+-------------------------------+------+\n",
      "|Medical Incident               |113794|\n",
      "|Structure Fire                 |23319 |\n",
      "|Alarms                         |19406 |\n",
      "|Traffic Collision              |7013  |\n",
      "|Citizen Assist / Service Call  |2524  |\n",
      "|Other                          |2166  |\n",
      "|Outside Fire                   |2094  |\n",
      "|Vehicle Fire                   |854   |\n",
      "|Gas Leak (Natural and LP Gases)|764   |\n",
      "|Water Rescue                   |755   |\n",
      "+-------------------------------+------+\n",
      "only showing top 10 rows\n",
      "\n"
     ]
    },
    {
     "name": "stderr",
     "output_type": "stream",
     "text": [
      "\r",
      "                                                                                \r"
     ]
    }
   ],
   "source": [
    "(fire_ts_df.select('CallType')\n",
    " .where(col('CallType').isNotNull())\n",
    " .groupBy('CallType')\n",
    " .count()\n",
    " .orderBy('count',ascending=False)\n",
    " .show(10,False)\n",
    ")"
   ]
  },
  {
   "cell_type": "code",
   "execution_count": 60,
   "id": "11bd91f1",
   "metadata": {},
   "outputs": [
    {
     "name": "stderr",
     "output_type": "stream",
     "text": [
      "\r",
      "[Stage 106:>                                                        (0 + 2) / 2]\r"
     ]
    },
    {
     "name": "stdout",
     "output_type": "stream",
     "text": [
      "+-------------------------------+-------------+\n",
      "|CallType                       |CallTypeCount|\n",
      "+-------------------------------+-------------+\n",
      "|Medical Incident               |113794       |\n",
      "|Structure Fire                 |23319        |\n",
      "|Alarms                         |19406        |\n",
      "|Traffic Collision              |7013         |\n",
      "|Citizen Assist / Service Call  |2524         |\n",
      "|Other                          |2166         |\n",
      "|Outside Fire                   |2094         |\n",
      "|Vehicle Fire                   |854          |\n",
      "|Gas Leak (Natural and LP Gases)|764          |\n",
      "|Water Rescue                   |755          |\n",
      "+-------------------------------+-------------+\n",
      "only showing top 10 rows\n",
      "\n"
     ]
    },
    {
     "name": "stderr",
     "output_type": "stream",
     "text": [
      "\r",
      "                                                                                \r"
     ]
    }
   ],
   "source": [
    "(fire_ts_df.select('CallType')\n",
    " .where(col('CallType').isNotNull())\n",
    " .groupBy('CallType')\n",
    " .agg(count(col('CallType')).alias('CallTypeCount'))\n",
    " .orderBy('CallTypeCount',ascending=False)\n",
    " .show(10,False)\n",
    ")"
   ]
  },
  {
   "cell_type": "markdown",
   "id": "ac418d48",
   "metadata": {},
   "source": [
    "### What zip codes accounted for the most calls?"
   ]
  },
  {
   "cell_type": "code",
   "execution_count": 61,
   "id": "274851d5",
   "metadata": {},
   "outputs": [
    {
     "name": "stderr",
     "output_type": "stream",
     "text": [
      "\r",
      "[Stage 109:>                                                        (0 + 2) / 2]\r"
     ]
    },
    {
     "name": "stdout",
     "output_type": "stream",
     "text": [
      "+-------+-----+\n",
      "|zipCode|count|\n",
      "+-------+-----+\n",
      "|94102  |21840|\n",
      "|94103  |20897|\n",
      "|94110  |14801|\n",
      "|94109  |14686|\n",
      "|94124  |9236 |\n",
      "|94112  |8421 |\n",
      "|94115  |7812 |\n",
      "|94107  |6941 |\n",
      "|94122  |6355 |\n",
      "|94133  |6246 |\n",
      "+-------+-----+\n",
      "only showing top 10 rows\n",
      "\n"
     ]
    },
    {
     "name": "stderr",
     "output_type": "stream",
     "text": [
      "\r",
      "                                                                                \r"
     ]
    }
   ],
   "source": [
    "(fire_ts_df.select('zipCode')\n",
    " .where(col('zipCode').isNotNull())\n",
    " .groupBy('zipCode')\n",
    " .count()\n",
    " .orderBy('count',ascending=False)\n",
    " .show(10,False)\n",
    ")"
   ]
  },
  {
   "cell_type": "markdown",
   "id": "470b504b",
   "metadata": {},
   "source": [
    "## Other common DataFrame operations.\n",
    "DataFrame API provides descriptive statistical methods like <b>min() , max() , sum() , and avg()</b>."
   ]
  },
  {
   "cell_type": "markdown",
   "id": "a30035cf",
   "metadata": {},
   "source": [
    "#### compute the sum of alarms, the average response time, and the minimum and maximum response times to all fire calls in our SF Fire Department data set"
   ]
  },
  {
   "cell_type": "code",
   "execution_count": 63,
   "id": "c0c0c574",
   "metadata": {},
   "outputs": [
    {
     "name": "stderr",
     "output_type": "stream",
     "text": [
      "[Stage 112:============================>                            (1 + 1) / 2]\r"
     ]
    },
    {
     "name": "stdout",
     "output_type": "stream",
     "text": [
      "+--------------+------------------------+------------------------+------------------------+\n",
      "|sum(NumAlarms)|avg(ResponseDelayedMins)|min(ResponseDelayedMins)|max(ResponseDelayedMins)|\n",
      "+--------------+------------------------+------------------------+------------------------+\n",
      "|      176170.0|      3.8923641541750342|             0.016666668|                    99.9|\n",
      "+--------------+------------------------+------------------------+------------------------+\n",
      "\n"
     ]
    },
    {
     "name": "stderr",
     "output_type": "stream",
     "text": [
      "\r",
      "                                                                                \r"
     ]
    }
   ],
   "source": [
    "(fire_ts_df\n",
    " .select(fn.sum(\"NumAlarms\"),fn.avg(\"ResponseDelayedMins\")\n",
    "         ,fn.min(\"ResponseDelayedMins\"),fn.max(\"ResponseDelayedMins\"))\n",
    " .show()\n",
    ")"
   ]
  },
  {
   "cell_type": "code",
   "execution_count": 65,
   "id": "da623531",
   "metadata": {},
   "outputs": [
    {
     "name": "stderr",
     "output_type": "stream",
     "text": [
      "[Stage 115:============================>                            (1 + 1) / 2]\r"
     ]
    },
    {
     "name": "stdout",
     "output_type": "stream",
     "text": [
      "+-----------+------------------+-----------------+-----------------+\n",
      "|Alarms SUM | Avg Response Mins|Min Response Mins|Max Response Mins|\n",
      "+-----------+------------------+-----------------+-----------------+\n",
      "|   176170.0|3.8923641541750342|      0.016666668|             99.9|\n",
      "+-----------+------------------+-----------------+-----------------+\n",
      "\n"
     ]
    },
    {
     "name": "stderr",
     "output_type": "stream",
     "text": [
      "\r",
      "                                                                                \r"
     ]
    }
   ],
   "source": [
    "(fire_ts_df\n",
    " .select(fn.sum(\"NumAlarms\").alias(\"Alarms SUM \"),fn.avg(\"ResponseDelayedMins\").alias(\"Avg Response Mins\")\n",
    "         ,fn.min(\"ResponseDelayedMins\").alias(\"Min Response Mins\")\n",
    "         ,fn.max(\"ResponseDelayedMins\").alias(\"Max Response Mins\"))\n",
    " .show()\n",
    ")"
   ]
  },
  {
   "cell_type": "markdown",
   "id": "e2d43c7e",
   "metadata": {},
   "source": [
    "For more advanced statistical needs common with data science workloads, read the\n",
    "API documentation for methods like <b>stat() , describe() , correlation() ,\n",
    "covariance() , sampleBy() , approxQuantile() , frequentItems()</b> , and so on."
   ]
  },
  {
   "cell_type": "code",
   "execution_count": null,
   "id": "7a0fdfa9",
   "metadata": {},
   "outputs": [],
   "source": []
  }
 ],
 "metadata": {
  "kernelspec": {
   "display_name": "Python 3 (ipykernel)",
   "language": "python",
   "name": "python3"
  },
  "language_info": {
   "codemirror_mode": {
    "name": "ipython",
    "version": 3
   },
   "file_extension": ".py",
   "mimetype": "text/x-python",
   "name": "python",
   "nbconvert_exporter": "python",
   "pygments_lexer": "ipython3",
   "version": "3.9.12"
  }
 },
 "nbformat": 4,
 "nbformat_minor": 5
}
