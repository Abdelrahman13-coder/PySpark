{
 "cells": [
  {
   "cell_type": "markdown",
   "id": "cd4a166e",
   "metadata": {},
   "source": [
    "## handleInvalid \n",
    "### Options are:\n",
    "- <b>'skip'</b> (filter out rows with invalid data), \n",
    "- <b>error </b> (throw an error), \n",
    "- <b>'keep'</b> (put invalid data in a special additional bucket, at index numLabels).\")\n",
    "\n",
    "https://spark.apache.org/docs/latest/ml-features.html#stringindexer"
   ]
  },
  {
   "cell_type": "code",
   "execution_count": 1,
   "id": "65c1b55c",
   "metadata": {},
   "outputs": [],
   "source": [
    "import pyspark\n",
    "from pyspark.sql import SparkSession\n",
    "spark=SparkSession.builder.getOrCreate()"
   ]
  },
  {
   "cell_type": "code",
   "execution_count": 2,
   "id": "1405c1c6",
   "metadata": {},
   "outputs": [
    {
     "name": "stderr",
     "output_type": "stream",
     "text": [
      "                                                                                \r"
     ]
    },
    {
     "name": "stdout",
     "output_type": "stream",
     "text": [
      "+-----+------------+\n",
      "|Seqno|Name        |\n",
      "+-----+------------+\n",
      "|1    |john jones  |\n",
      "|2    |tracey smith|\n",
      "|3    |amy sanders |\n",
      "+-----+------------+\n",
      "\n"
     ]
    }
   ],
   "source": [
    "columns = [\"Seqno\",\"Name\"]\n",
    "data = [(\"1\", \"john jones\"),\n",
    "    (\"2\", \"tracey smith\"),\n",
    "    (\"3\", \"amy sanders\")]\n",
    "\n",
    "df = spark.createDataFrame(data=data,schema=columns)\n",
    "\n",
    "df.show(truncate=False)"
   ]
  },
  {
   "cell_type": "code",
   "execution_count": 3,
   "id": "27123b6d",
   "metadata": {},
   "outputs": [],
   "source": [
    "def convertCase(str):\n",
    "    resStr=\"\"\n",
    "    arr = str.split(\" \")\n",
    "    #print(arr)\n",
    "    for x in arr:\n",
    "        resStr= resStr + x[0:1].upper() + x[1:len(x)] + \" \"\n",
    "        #print(resStr)\n",
    "    return resStr "
   ]
  },
  {
   "cell_type": "code",
   "execution_count": 4,
   "id": "139e33fd",
   "metadata": {},
   "outputs": [
    {
     "data": {
      "text/plain": [
       "'Ahmed Mohamed Hamed '"
      ]
     },
     "execution_count": 4,
     "metadata": {},
     "output_type": "execute_result"
    }
   ],
   "source": [
    "convertCase('ahmed mohamed hamed')"
   ]
  },
  {
   "cell_type": "code",
   "execution_count": 5,
   "id": "3823557d",
   "metadata": {},
   "outputs": [],
   "source": [
    "from pyspark.sql.functions import udf,col\n",
    "from pyspark.sql.types import StructType, StructField, IntegerType, FloatType, StringType"
   ]
  },
  {
   "cell_type": "code",
   "execution_count": 6,
   "id": "9f98a5dc",
   "metadata": {},
   "outputs": [],
   "source": [
    "convertUDF = udf(convertCase,StringType())"
   ]
  },
  {
   "cell_type": "code",
   "execution_count": 7,
   "id": "b9d21f0b",
   "metadata": {},
   "outputs": [
    {
     "name": "stderr",
     "output_type": "stream",
     "text": [
      "                                                                                \r"
     ]
    },
    {
     "name": "stdout",
     "output_type": "stream",
     "text": [
      "+-----+-------------+\n",
      "|Seqno|Name         |\n",
      "+-----+-------------+\n",
      "|1    |John Jones   |\n",
      "|2    |Tracey Smith |\n",
      "|3    |Amy Sanders  |\n",
      "+-----+-------------+\n",
      "\n"
     ]
    }
   ],
   "source": [
    "df.select(col(\"Seqno\"), \\\n",
    "    convertUDF(col(\"Name\")).alias(\"Name\") ) \\\n",
    "   .show(truncate=False)"
   ]
  },
  {
   "cell_type": "code",
   "execution_count": 8,
   "id": "56c82ff1",
   "metadata": {},
   "outputs": [
    {
     "data": {
      "text/plain": [
       "<function __main__.convertCase(str)>"
      ]
     },
     "execution_count": 8,
     "metadata": {},
     "output_type": "execute_result"
    }
   ],
   "source": [
    "\"\"\" Using UDF on SQL \"\"\"\n",
    "spark.udf.register(\"convertUDFSQL\", convertCase,StringType())"
   ]
  },
  {
   "cell_type": "code",
   "execution_count": 10,
   "id": "58bd822c",
   "metadata": {},
   "outputs": [],
   "source": [
    "df.createOrReplaceTempView(\"NAME_TABLE\")"
   ]
  },
  {
   "cell_type": "code",
   "execution_count": 11,
   "id": "d636cd6b",
   "metadata": {},
   "outputs": [
    {
     "name": "stdout",
     "output_type": "stream",
     "text": [
      "+-----+-------------+\n",
      "|Seqno|Name         |\n",
      "+-----+-------------+\n",
      "|1    |John Jones   |\n",
      "|2    |Tracey Smith |\n",
      "|3    |Amy Sanders  |\n",
      "+-----+-------------+\n",
      "\n"
     ]
    }
   ],
   "source": [
    "spark.sql(\"select Seqno, convertUDFSQL(Name) as Name from NAME_TABLE\") \\\n",
    "     .show(truncate=False)"
   ]
  },
  {
   "cell_type": "code",
   "execution_count": 5,
   "id": "8ea04686",
   "metadata": {},
   "outputs": [],
   "source": [
    "@udf(returnType=StringType()) \n",
    "def convertCaseAnnot(str):\n",
    "    resStr=\"\"\n",
    "    arr = str.split(\" \")\n",
    "    #print(arr)\n",
    "    for x in arr:\n",
    "        resStr= resStr + x[0:1].upper() + x[1:len(x)] + \" \"\n",
    "        #print(resStr)\n",
    "    return resStr "
   ]
  },
  {
   "cell_type": "code",
   "execution_count": 18,
   "id": "c01f7866",
   "metadata": {},
   "outputs": [
    {
     "name": "stdout",
     "output_type": "stream",
     "text": [
      "+-----+-------------+\n",
      "|Seqno|Name         |\n",
      "+-----+-------------+\n",
      "|1    |John Jones   |\n",
      "|2    |Tracey Smith |\n",
      "|3    |Amy Sanders  |\n",
      "+-----+-------------+\n",
      "\n"
     ]
    }
   ],
   "source": [
    "df.select(col(\"Seqno\"), \\\n",
    "    convertCaseAnnot(col(\"Name\")).alias(\"Name\") ) \\\n",
    "   .show(truncate=False)"
   ]
  },
  {
   "cell_type": "code",
   "execution_count": null,
   "id": "3c922ac1",
   "metadata": {},
   "outputs": [],
   "source": []
  }
 ],
 "metadata": {
  "kernelspec": {
   "display_name": "Python 3 (ipykernel)",
   "language": "python",
   "name": "python3"
  },
  "language_info": {
   "codemirror_mode": {
    "name": "ipython",
    "version": 3
   },
   "file_extension": ".py",
   "mimetype": "text/x-python",
   "name": "python",
   "nbconvert_exporter": "python",
   "pygments_lexer": "ipython3",
   "version": "3.9.12"
  }
 },
 "nbformat": 4,
 "nbformat_minor": 5
}
